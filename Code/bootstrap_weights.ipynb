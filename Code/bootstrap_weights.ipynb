{
 "cells": [
  {
   "cell_type": "code",
   "execution_count": 1,
   "metadata": {},
   "outputs": [],
   "source": [
    "%matplotlib inline"
   ]
  },
  {
   "cell_type": "code",
   "execution_count": 2,
   "metadata": {},
   "outputs": [],
   "source": [
    "from Bio import SeqIO, Phylo\n",
    "import random\n",
    "import numpy as np\n",
    "import glob\n",
    "from scipy import stats\n",
    "\n",
    "import supporting_functions\n",
    "import weighting_methods"
   ]
  },
  {
   "cell_type": "code",
   "execution_count": 7,
   "metadata": {},
   "outputs": [],
   "source": [
    "from matplotlib import pyplot as plt\n",
    "import matplotlib\n",
    "matplotlib.rcParams['xtick.labelsize'] = 16\n",
    "matplotlib.rcParams['ytick.labelsize'] = 16\n",
    "matplotlib.rcParams['axes.labelsize'] = 18\n",
    "matplotlib.rcParams['axes.titlesize'] = 18\n",
    "\n",
    "matplotlib.rcParams['axes.grid'] = True\n",
    "matplotlib.rcParams['grid.color'] = '0.5'\n",
    "matplotlib.rcParams['grid.linewidth'] = '0.5'\n",
    "\n",
    "matplotlib.rcParams['axes.edgecolor'] = '0.25'\n",
    "matplotlib.rcParams['xtick.color'] = '0'\n",
    "matplotlib.rcParams['ytick.color'] = '0'\n",
    "\n",
    "matplotlib.rcParams['xtick.major.width'] = 1\n",
    "matplotlib.rcParams['ytick.major.width'] = 1\n",
    "matplotlib.rcParams['ytick.major.size'] = 5\n",
    "matplotlib.rcParams['xtick.major.size'] = 5\n",
    "matplotlib.rcParams['axes.spines.right'] = True\n",
    "matplotlib.rcParams['axes.spines.left'] = True\n",
    "matplotlib.rcParams['axes.spines.top'] = True\n",
    "matplotlib.rcParams['axes.spines.bottom'] = True\n",
    "\n",
    "matplotlib.rcParams['font.family'] = 'sans-serif'\n",
    "matplotlib.rcParams['font.sans-serif'] = 'helvetica'\n",
    "matplotlib.rcParams['font.weight']='normal'\n",
    "matplotlib.rcParams['axes.axisbelow'] = True"
   ]
  },
  {
   "cell_type": "code",
   "execution_count": 25,
   "metadata": {},
   "outputs": [],
   "source": [
    "import datetime\n",
    "year = datetime.date.today().year\n",
    "month = datetime.date.today().month\n",
    "import os\n",
    "figs_dir = '../Results/Figures/{}_{:02}'.format(year, month)\n",
    "if not os.path.exists(figs_dir):\n",
    "    os.makedirs(figs_dir)"
   ]
  },
  {
   "cell_type": "markdown",
   "metadata": {},
   "source": [
    "# Write bootstrap sampled fasta files"
   ]
  },
  {
   "cell_type": "code",
   "execution_count": null,
   "metadata": {},
   "outputs": [],
   "source": [
    "for fasta_file in glob.glob('../Data/psicov150_aln_pdb/aln_fasta_max1k/*.fasta'):\n",
    "#     fasta_file = '../Data/psicov150_aln_pdb/aln_fasta_max1k/1aoeA.fasta'\n",
    "    protein = fasta_file.split('/')[-1]\n",
    "    records = list(SeqIO.parse(fasta_file, 'fasta'))\n",
    "    length = len(records[0].seq)\n",
    "    indices = range(length)\n",
    "    selection = [random.choice(indices) for i in range(length)]\n",
    "    with open('../Data/psicov150_aln_pdb/aln_fasta_max1k_bootstrap/{}'.format(protein), 'w') as outfile:\n",
    "        for seq in records[:]:\n",
    "            str_seq = str(seq.seq)\n",
    "            new_seq = [str_seq[i] for i in selection]\n",
    "            outfile.write('>{}\\n'.format(seq.id))\n",
    "            outfile.write('{}\\n'.format(''.join(new_seq)))"
   ]
  },
  {
   "cell_type": "code",
   "execution_count": null,
   "metadata": {},
   "outputs": [],
   "source": []
  },
  {
   "cell_type": "markdown",
   "metadata": {},
   "source": [
    "# Run FastTree/IQtree pipeline offline"
   ]
  },
  {
   "cell_type": "code",
   "execution_count": null,
   "metadata": {},
   "outputs": [],
   "source": []
  },
  {
   "cell_type": "markdown",
   "metadata": {},
   "source": [
    "# Calculate weights on the new trees"
   ]
  },
  {
   "cell_type": "code",
   "execution_count": 64,
   "metadata": {},
   "outputs": [
    {
     "name": "stdout",
     "output_type": "stream",
     "text": [
      "Potential for multiple midpoints. Choosing the first that I encounter\n",
      "Potential for multiple midpoints. Choosing the first that I encounter\n",
      "Potential for multiple midpoints. Choosing the first that I encounter\n",
      "Potential for multiple midpoints. Choosing the first that I encounter\n",
      "Potential for multiple midpoints. Choosing the first that I encounter\n",
      "Potential for multiple midpoints. Choosing the first that I encounter\n",
      "Potential for multiple midpoints. Choosing the first that I encounter\n",
      "Potential for multiple midpoints. Choosing the first that I encounter\n"
     ]
    }
   ],
   "source": [
    "fasta_directory = '../Data/psicov150_aln_pdb/aln_fasta_max1k_bootstrap/'\n",
    "#Just storing the output in the same directory\n",
    "tree_directory = fasta_directory\n",
    "weight_output_dir = fasta_directory\n",
    "\n",
    "for fasta_file in sorted(glob.glob(fasta_directory+'*.fasta'))[:]:\n",
    "    prot_name = fasta_file.split('/')[-1].split('.')[0]\n",
    "    #First read in sequence data\n",
    "    records = list(SeqIO.parse(fasta_file, 'fasta'))\n",
    "    #And the tree\n",
    "    tree_loc = tree_directory+'{}.fasta.treefile'.format(prot_name)\n",
    "    try:\n",
    "        tree = Phylo.read(tree_loc, rooted=False, format='newick')\n",
    "    except FileNotFoundError:\n",
    "        continue\n",
    "    #Root the tree with my mid-point algorithm\n",
    "    tree = supporting_functions.MP_root(tree)\n",
    "\n",
    "    \n",
    "    #GSC weights\n",
    "    weights_dict =  weighting_methods.calc_GSC_weights(tree)\n",
    "    weights_dict_id = {}\n",
    "    for i,j in weights_dict.items():\n",
    "        weights_dict_id[i.name] = j\n",
    "    \n",
    "    #Mean scaled\n",
    "    mean_GSC = np.mean(list(weights_dict_id.values()))\n",
    "    keys, vals = zip(*list(weights_dict_id.items()))\n",
    "    vals = np.array(vals)/mean_GSC\n",
    "    new_dict = dict(zip(keys, vals))\n",
    "    with open(weight_output_dir+'{}_GSC_{}.weights'.format(prot_name, 'meanScale'),'w') as outfile:\n",
    "        for record in records:\n",
    "            outfile.write('{}\\n'.format(new_dict[record.id]))\n",
    "    \n",
    "    #And max scaled\n",
    "    max_GSC = np.max(list(weights_dict_id.values()))\n",
    "    keys, vals = zip(*list(weights_dict_id.items()))\n",
    "    vals = np.array(vals)/max_GSC\n",
    "    new_dict = dict(zip(keys, vals))\n",
    "    with open(weight_output_dir+'{}_GSC_{}.weights'.format(prot_name, 'maxScale'),'w') as outfile:\n",
    "        for record in records:\n",
    "            outfile.write('{}\\n'.format(new_dict[record.id]))\n",
    "    \n",
    "    #ACL weights\n",
    "    try:\n",
    "        tree = Phylo.read(tree_loc, rooted=False, format='newick')\n",
    "    except FileNotFoundError:\n",
    "        continue\n",
    "    if tree.is_bifurcating() == False:\n",
    "        continue\n",
    "    tree = supporting_functions.MP_root(tree)\n",
    "    weights_dict, new_tree =  weighting_methods.calc_ACL_weights(tree)\n",
    "    weights_dict_id = {}\n",
    "    for i,j in weights_dict.items():\n",
    "        weights_dict_id[i.name] = j\n",
    "        \n",
    "    #Mean scaled\n",
    "    mean_ACL = np.mean(list(weights_dict_id.values()))\n",
    "    keys, vals = zip(*list(weights_dict_id.items()))\n",
    "    vals = np.array(vals)/mean_ACL\n",
    "    new_dict = dict(zip(keys, vals))\n",
    "    with open(weight_output_dir+'{}_ACL_{}.weights'.format(prot_name, 'meanScale'),'w') as outfile:\n",
    "        for record in records:\n",
    "            outfile.write('{}\\n'.format(new_dict[record.id]))\n",
    "    \n",
    "    #And max scaled\n",
    "    max_ACL = np.max(list(weights_dict_id.values()))\n",
    "    keys, vals = zip(*list(weights_dict_id.items()))\n",
    "    vals = np.array(vals)/max_ACL\n",
    "    new_dict = dict(zip(keys, vals))\n",
    "    with open(weight_output_dir+'{}_ACL_{}.weights'.format(prot_name, 'maxScale'),'w') as outfile:\n",
    "        for record in records:\n",
    "            outfile.write('{}\\n'.format(new_dict[record.id]))"
   ]
  },
  {
   "cell_type": "markdown",
   "metadata": {},
   "source": [
    "# Compare weights"
   ]
  },
  {
   "cell_type": "markdown",
   "metadata": {},
   "source": [
    "**First an individual example**"
   ]
  },
  {
   "cell_type": "code",
   "execution_count": 26,
   "metadata": {},
   "outputs": [
    {
     "name": "stdout",
     "output_type": "stream",
     "text": [
      "0.9025991855568625\n"
     ]
    },
    {
     "data": {
      "image/png": "[encoded data removed]",
      "text/plain": [
       "<Figure size 432x288 with 1 Axes>"
      ]
     },
     "metadata": {
      "needs_background": "light"
     },
     "output_type": "display_data"
    }
   ],
   "source": [
    "weights_a = '../Data/psicov150_aln_pdb/aln_fasta_max1k_bootstrap/1aoeA_GSC_meanScale.weights'\n",
    "weights_b = '../Data/weights/1aoeA_GSC_meanScale.weights'\n",
    "\n",
    "a = np.loadtxt(weights_a)\n",
    "b = np.loadtxt(weights_b)\n",
    "rval, trashc = stats.spearmanr(a, b)\n",
    "print(rval)\n",
    "\n",
    "fig, ax = plt.subplots()\n",
    "ax.loglog(b,a, 'o')\n",
    "ax.set_xlabel('GSC weights\\n(full data set)')\n",
    "ax.set_ylabel('GSC weights\\n(bootstrap resample)')\n",
    "ax.set_title(r'1aoeA ($\\rho$ = {})'.format(round(rval, 3)))\n",
    "\n",
    "plt.savefig('{}/1aoeA_GSC_boostrapweights.pdf'.format(figs_dir), bbox_inches='tight')"
   ]
  },
  {
   "cell_type": "code",
   "execution_count": 27,
   "metadata": {},
   "outputs": [
    {
     "name": "stdout",
     "output_type": "stream",
     "text": [
      "0.685307782038321\n"
     ]
    },
    {
     "data": {
      "image/png": "[encoded data removed]",
      "text/plain": [
       "<Figure size 432x288 with 1 Axes>"
      ]
     },
     "metadata": {
      "needs_background": "light"
     },
     "output_type": "display_data"
    }
   ],
   "source": [
    "weights_a = '../Data/psicov150_aln_pdb/aln_fasta_max1k_bootstrap/1aoeA_ACL_meanScale.weights'\n",
    "weights_b = '../Data/weights/1aoeA_ACL_meanScale.weights'\n",
    "\n",
    "a = np.loadtxt(weights_a)\n",
    "b = np.loadtxt(weights_b)\n",
    "rval, trashc = stats.spearmanr(a, b)\n",
    "print(rval)\n",
    "\n",
    "fig, ax = plt.subplots()\n",
    "ax.loglog(b,a, 'o')\n",
    "ax.set_xlabel('ACL weights\\n(full data set)')\n",
    "ax.set_ylabel('ACL weights\\n(bootstrap resample)')\n",
    "ax.set_title(r'1aoeA ($\\rho$ = {})'.format(round(rval, 3)))\n",
    "plt.savefig('{}/1aoeA_ACL_boostrapweights.pdf'.format(figs_dir), bbox_inches='tight')"
   ]
  },
  {
   "cell_type": "code",
   "execution_count": null,
   "metadata": {},
   "outputs": [],
   "source": []
  },
  {
   "cell_type": "markdown",
   "metadata": {},
   "source": [
    "**And the whole set**"
   ]
  },
  {
   "cell_type": "code",
   "execution_count": 31,
   "metadata": {},
   "outputs": [
    {
     "name": "stdout",
     "output_type": "stream",
     "text": [
      "0.6367584989860439 0.6072467861902878\n"
     ]
    },
    {
     "data": {
      "image/png": "[encoded data removed]",
      "text/plain": [
       "<Figure size 432x288 with 1 Axes>"
      ]
     },
     "metadata": {
      "needs_background": "light"
     },
     "output_type": "display_data"
    }
   ],
   "source": [
    "weights_a_generic = '../Data/psicov150_aln_pdb/aln_fasta_max1k_bootstrap/'\n",
    "weights_b_generic = '../Data/weights/'\n",
    "\n",
    "correlations = []\n",
    "for weights_a in glob.glob(weights_a_generic+'*ACL_meanScale.weights'):\n",
    "    file_name = weights_a.split('/')[-1]\n",
    "    weights_b = weights_b_generic+file_name\n",
    "    a = np.loadtxt(weights_a)\n",
    "    b = np.loadtxt(weights_b)\n",
    "    rval, trashc = stats.spearmanr(a, b)\n",
    "    correlations.append(rval)\n",
    "print(np.median(correlations), np.mean(correlations))\n",
    "\n",
    "fig, ax = plt.subplots()\n",
    "ax.hist(correlations)\n",
    "ax.set_xlabel(r'Correlation ($\\rho$)')\n",
    "ax.set_ylabel('Counts')\n",
    "ax.set_title('ACL weights')\n",
    "plt.savefig('{}/ACL_boostrapweights.pdf'.format(figs_dir), bbox_inches='tight')"
   ]
  },
  {
   "cell_type": "code",
   "execution_count": 32,
   "metadata": {},
   "outputs": [
    {
     "name": "stdout",
     "output_type": "stream",
     "text": [
      "0.8549345886883863 0.8402464407591047\n"
     ]
    },
    {
     "data": {
      "image/png": "[encoded data removed]",
      "text/plain": [
       "<Figure size 432x288 with 1 Axes>"
      ]
     },
     "metadata": {
      "needs_background": "light"
     },
     "output_type": "display_data"
    }
   ],
   "source": [
    "weights_a_generic = '../Data/psicov150_aln_pdb/aln_fasta_max1k_bootstrap/'\n",
    "weights_b_generic = '../Data/weights/'\n",
    "\n",
    "correlations = []\n",
    "for weights_a in glob.glob(weights_a_generic+'*GSC_meanScale.weights'):\n",
    "    file_name = weights_a.split('/')[-1]\n",
    "    weights_b = weights_b_generic+file_name\n",
    "    a = np.loadtxt(weights_a)\n",
    "    b = np.loadtxt(weights_b)\n",
    "    rval, trashc = stats.spearmanr(a, b)\n",
    "    correlations.append(rval)\n",
    "print(np.median(correlations), np.mean(correlations))\n",
    "\n",
    "fig, ax = plt.subplots()\n",
    "ax.hist(correlations)\n",
    "ax.set_xlabel(r'Correlation ($\\rho$)')\n",
    "ax.set_ylabel('Counts')\n",
    "ax.set_title('GSC weights')\n",
    "plt.savefig('{}/GSC_boostrapweights.pdf'.format(figs_dir), bbox_inches='tight')"
   ]
  },
  {
   "cell_type": "code",
   "execution_count": 68,
   "metadata": {},
   "outputs": [
    {
     "data": {
      "text/plain": [
       "(0.18563196045958597, 0.23529780746032752)"
      ]
     },
     "execution_count": 68,
     "metadata": {},
     "output_type": "execute_result"
    }
   ],
   "source": []
  },
  {
   "cell_type": "code",
   "execution_count": null,
   "metadata": {},
   "outputs": [],
   "source": []
  },
  {
   "cell_type": "code",
   "execution_count": null,
   "metadata": {},
   "outputs": [],
   "source": []
  },
  {
   "cell_type": "code",
   "execution_count": null,
   "metadata": {},
   "outputs": [],
   "source": []
  },
  {
   "cell_type": "code",
   "execution_count": null,
   "metadata": {},
   "outputs": [],
   "source": []
  },
  {
   "cell_type": "code",
   "execution_count": 55,
   "metadata": {},
   "outputs": [],
   "source": [
    "fasta_directory = '../Data/psicov150_aln_pdb/aln_fasta_max1k_bootstrap/'\n",
    "tree_directory = fasta_directory\n",
    "weight_output_dir = fasta_directory\n",
    "\n",
    "for fasta_file in sorted(glob.glob(fasta_directory+'*.fasta'))[:]:\n",
    "    prot_name = fasta_file.split('/')[-1].split('.')[0]\n",
    "#     print(prot_name)\n",
    "    #First read in sequence data\n",
    "    records = list(SeqIO.parse(fasta_file, 'fasta'))\n",
    "    #And the tree\n",
    "#     tree_loc = tree_directory+'{}.newick'.format(prot_name)\n",
    "    tree_loc = tree_directory+'{}.fasta.treefile'.format(prot_name)\n",
    "\n",
    "\n",
    "#     print(tree_loc)\n",
    "    try:\n",
    "        tree = Phylo.read(tree_loc, rooted=False, format='newick')\n",
    "    except FileNotFoundError:\n",
    "        continue\n",
    "    if tree.is_bifurcating() == False:\n",
    "        print('fuckkkkk')\n",
    "        continue"
   ]
  },
  {
   "cell_type": "code",
   "execution_count": 56,
   "metadata": {},
   "outputs": [
    {
     "data": {
      "text/plain": [
       "True"
      ]
     },
     "execution_count": 56,
     "metadata": {},
     "output_type": "execute_result"
    }
   ],
   "source": [
    "tree.is_bifurcating()"
   ]
  },
  {
   "cell_type": "code",
   "execution_count": 48,
   "metadata": {},
   "outputs": [
    {
     "data": {
      "text/plain": [
       "231.09114352099985"
      ]
     },
     "execution_count": 48,
     "metadata": {},
     "output_type": "execute_result"
    }
   ],
   "source": [
    "tree.total_branch_length()"
   ]
  },
  {
   "cell_type": "code",
   "execution_count": 49,
   "metadata": {},
   "outputs": [
    {
     "data": {
      "text/plain": [
       "231.09114352099957"
      ]
     },
     "execution_count": 49,
     "metadata": {},
     "output_type": "execute_result"
    }
   ],
   "source": [
    "tree.root_with_outgroup('reference')\n",
    "tree.total_branch_length()"
   ]
  },
  {
   "cell_type": "code",
   "execution_count": 50,
   "metadata": {},
   "outputs": [
    {
     "data": {
      "text/plain": [
       "False"
      ]
     },
     "execution_count": 50,
     "metadata": {},
     "output_type": "execute_result"
    }
   ],
   "source": [
    "tree.is_bifurcating()"
   ]
  },
  {
   "cell_type": "code",
   "execution_count": 51,
   "metadata": {},
   "outputs": [
    {
     "ename": "AssertionError",
     "evalue": "",
     "output_type": "error",
     "traceback": [
      "\u001b[0;31m---------------------------------------------------------------------------\u001b[0m",
      "\u001b[0;31mAssertionError\u001b[0m                            Traceback (most recent call last)",
      "\u001b[0;32m<ipython-input-51-145f051b0574>\u001b[0m in \u001b[0;36m<module>\u001b[0;34m()\u001b[0m\n\u001b[0;32m----> 1\u001b[0;31m \u001b[0mtree\u001b[0m \u001b[0;34m=\u001b[0m \u001b[0msupporting_functions\u001b[0m\u001b[0;34m.\u001b[0m\u001b[0mMP_root\u001b[0m\u001b[0;34m(\u001b[0m\u001b[0mtree\u001b[0m\u001b[0;34m)\u001b[0m\u001b[0;34m\u001b[0m\u001b[0m\n\u001b[0m",
      "\u001b[0;32m~/Projects/DCA_weighting/Code/supporting_functions.py\u001b[0m in \u001b[0;36mMP_root\u001b[0;34m(tree)\u001b[0m\n\u001b[1;32m     39\u001b[0m     \u001b[0;31m#I'm not entirely sure how this algorithm works on non-bifurcating trees. Thus, this\u001b[0m\u001b[0;34m\u001b[0m\u001b[0;34m\u001b[0m\u001b[0m\n\u001b[1;32m     40\u001b[0m     \u001b[0;31m#initial assertion statement. It might be fine, but I'd have to think about it.\u001b[0m\u001b[0;34m\u001b[0m\u001b[0;34m\u001b[0m\u001b[0m\n\u001b[0;32m---> 41\u001b[0;31m     \u001b[0;32massert\u001b[0m \u001b[0mtree\u001b[0m\u001b[0;34m.\u001b[0m\u001b[0mis_bifurcating\u001b[0m\u001b[0;34m(\u001b[0m\u001b[0;34m)\u001b[0m\u001b[0;34m\u001b[0m\u001b[0m\n\u001b[0m\u001b[1;32m     42\u001b[0m \u001b[0;34m\u001b[0m\u001b[0m\n\u001b[1;32m     43\u001b[0m     \u001b[0;31m#Find which terminal/s is farthest away from my randomly selected root terminal\u001b[0m\u001b[0;34m\u001b[0m\u001b[0;34m\u001b[0m\u001b[0m\n",
      "\u001b[0;31mAssertionError\u001b[0m: "
     ]
    }
   ],
   "source": [
    "tree = supporting_functions.MP_root(tree)"
   ]
  },
  {
   "cell_type": "code",
   "execution_count": null,
   "metadata": {},
   "outputs": [],
   "source": []
  }
 ],
 "metadata": {
  "kernelspec": {
   "display_name": "Python 3",
   "language": "python",
   "name": "python3"
  },
  "language_info": {
   "codemirror_mode": {
    "name": "ipython",
    "version": 3
   },
   "file_extension": ".py",
   "mimetype": "text/x-python",
   "name": "python",
   "nbconvert_exporter": "python",
   "pygments_lexer": "ipython3",
   "version": "3.7.0"
  },
  "toc": {
   "colors": {
    "hover_highlight": "#DAA520",
    "navigate_num": "#000000",
    "navigate_text": "#333333",
    "running_highlight": "#FF0000",
    "selected_highlight": "#FFD700",
    "sidebar_border": "#EEEEEE",
    "wrapper_background": "#FFFFFF"
   },
   "moveMenuLeft": true,
   "nav_menu": {
    "height": "30px",
    "width": "252px"
   },
   "navigate_menu": true,
   "number_sections": true,
   "sideBar": true,
   "threshold": 4,
   "toc_cell": false,
   "toc_section_display": "block",
   "toc_window_display": false,
   "widenNotebook": false
  }
 },
 "nbformat": 4,
 "nbformat_minor": 2
}
