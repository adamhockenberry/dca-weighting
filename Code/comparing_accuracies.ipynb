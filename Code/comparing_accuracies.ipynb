{
 "cells": [
  {
   "cell_type": "code",
   "execution_count": 1,
   "metadata": {
    "collapsed": true
   },
   "outputs": [],
   "source": [
    "%matplotlib inline\n",
    "%load_ext autoreload\n",
    "%autoreload 2"
   ]
  },
  {
   "cell_type": "code",
   "execution_count": 2,
   "metadata": {
    "collapsed": true
   },
   "outputs": [],
   "source": [
    "import pandas as pd\n",
    "import numpy as np\n",
    "\n",
    "from Bio import SeqIO\n",
    "from matplotlib import pyplot as plt\n",
    "\n",
    "import sklearn.metrics\n",
    "\n",
    "from scipy import stats\n",
    "import glob\n",
    "\n",
    "\n",
    "import process_couplings"
   ]
  },
  {
   "cell_type": "code",
   "execution_count": 3,
   "metadata": {
    "collapsed": true
   },
   "outputs": [],
   "source": [
    "import matplotlib\n",
    "matplotlib.rcParams['xtick.labelsize'] = 16\n",
    "matplotlib.rcParams['ytick.labelsize'] = 16\n",
    "matplotlib.rcParams['axes.labelsize'] = 18\n",
    "matplotlib.rcParams['axes.titlesize'] = 18\n",
    "\n",
    "matplotlib.rcParams['axes.grid'] = True\n",
    "matplotlib.rcParams['grid.color'] = '0.5'\n",
    "matplotlib.rcParams['grid.linewidth'] = '0.5'\n",
    "\n",
    "matplotlib.rcParams['axes.edgecolor'] = '0.25'\n",
    "matplotlib.rcParams['xtick.color'] = '0'\n",
    "matplotlib.rcParams['ytick.color'] = '0'\n",
    "\n",
    "matplotlib.rcParams['xtick.major.width'] = 1\n",
    "matplotlib.rcParams['ytick.major.width'] = 1\n",
    "matplotlib.rcParams['ytick.major.size'] = 5\n",
    "matplotlib.rcParams['xtick.major.size'] = 5\n",
    "matplotlib.rcParams['axes.spines.right'] = True\n",
    "matplotlib.rcParams['axes.spines.left'] = True\n",
    "matplotlib.rcParams['axes.spines.top'] = True\n",
    "matplotlib.rcParams['axes.spines.bottom'] = True\n",
    "\n",
    "matplotlib.rcParams['font.family'] = 'sans-serif'\n",
    "matplotlib.rcParams['font.sans-serif'] = 'helvetica'\n",
    "matplotlib.rcParams['font.weight']='normal'\n",
    "matplotlib.rcParams['axes.axisbelow'] = True"
   ]
  },
  {
   "cell_type": "code",
   "execution_count": 4,
   "metadata": {
    "collapsed": true
   },
   "outputs": [],
   "source": [
    "###This is just for setting up the creation of new results folders\n",
    "import datetime\n",
    "year = datetime.date.today().year\n",
    "month = datetime.date.today().month\n",
    "import os\n",
    "figs_dir = '../Results/Figures/{}_{:02}'.format(year, month)\n",
    "if not os.path.exists(figs_dir):\n",
    "    os.makedirs(figs_dir)"
   ]
  },
  {
   "cell_type": "markdown",
   "metadata": {},
   "source": [
    "# Visualize some generalities"
   ]
  },
  {
   "cell_type": "markdown",
   "metadata": {},
   "source": [
    "**Distributions of coupling values**"
   ]
  },
  {
   "cell_type": "code",
   "execution_count": 5,
   "metadata": {
    "collapsed": false
   },
   "outputs": [
    {
     "name": "stderr",
     "output_type": "stream",
     "text": [
      "/Users/adamhockenberry/Projects/DCA_weighting/Code/process_couplings.py:7: FutureWarning: Using a non-tuple sequence for multidimensional indexing is deprecated; use `arr[tuple(seq)]` instead of `arr[seq]`. In the future this will be interpreted as an array index, `arr[np.array(seq)]`, which will result either in an error or a different result.\n",
      "  df_ccm_pivot.values[[np.arange(df_ccm_pivot.shape[0])]*2] = np.nan\n"
     ]
    },
    {
     "data": {
      "image/png": "[encoded data removed]",
      "text/plain": [
       "<matplotlib.figure.Figure at 0x11c1cb470>"
      ]
     },
     "metadata": {},
     "output_type": "display_data"
    }
   ],
   "source": [
    "prot_name = '1aoeA'\n",
    "\n",
    "# testy_df = process_couplings.process_ccmpredpy('../Results/couplings/{}.raw.uniform.mat'.format(prot_name))\n",
    "# testy_df = process_couplings.process_ccmpredpy('../Results/couplings/{}.ent.uniform.mat'.format(prot_name))\n",
    "testy_df = process_couplings.process_ccmpredpy('../Results/couplings/{}.apc.uniform.mat'.format(prot_name))\n",
    "\n",
    "# testy_df = process_couplings.process_ccmpredpy('../Results/couplings/{}.raw.GSC_meanScale.mat'.format(prot_name))\n",
    "# testy_df = process_couplings.process_ccmpredpy('../Results/couplings/{}.ent.GSC_meanScale.mat'.format(prot_name))\n",
    "# testy_df = process_couplings.process_ccmpredpy('../Results/couplings/{}.apc.GSC_meanScale.mat'.format(prot_name))\n",
    "\n",
    "\n",
    "\n",
    "fig, ax = plt.subplots()\n",
    "ax.hist(testy_df['couplings'], 80);"
   ]
  },
  {
   "cell_type": "markdown",
   "metadata": {},
   "source": [
    "**Load in contact files and test PPV**"
   ]
  },
  {
   "cell_type": "code",
   "execution_count": 6,
   "metadata": {
    "collapsed": false
   },
   "outputs": [
    {
     "name": "stdout",
     "output_type": "stream",
     "text": [
      "(0.4270833333333333, 192)\n"
     ]
    }
   ],
   "source": [
    "length_based_modifier = 1.\n",
    "df_contacts = pd.read_csv('../../Phylogenetic_couplings/Data/'\n",
    "                          'psicov150_aln_pdb/pdb/{}_SCcenter_contacts.csv'.format(prot_name), index_col=0)\n",
    "df_contacts, df_contacts_stack = process_couplings.process_contacts_df(df_contacts, 1)\n",
    "seq = list(SeqIO.parse('../../Phylogenetic_couplings/Data/'\n",
    "                       'psicov150_aln_pdb/aln_fasta/{}.fasta'.format(prot_name), 'fasta'))[0]\n",
    "seq = str(seq.seq)\n",
    "df_merged = process_couplings.merge_contacts_couplings(df_contacts_stack, testy_df, seq)\n",
    "df_merged = process_couplings.remove_close(df_merged, 6)\n",
    "\n",
    "print(process_couplings.ppv_from_df(df_merged, int(len(seq)*length_based_modifier), length_cutoff=7.5))"
   ]
  },
  {
   "cell_type": "code",
   "execution_count": 7,
   "metadata": {
    "collapsed": false
   },
   "outputs": [
    {
     "name": "stdout",
     "output_type": "stream",
     "text": [
      "0.21896121007531077\n"
     ]
    },
    {
     "data": {
      "image/png": "[encoded data removed]",
      "text/plain": [
       "<matplotlib.figure.Figure at 0x10525d198>"
      ]
     },
     "metadata": {},
     "output_type": "display_data"
    }
   ],
   "source": [
    "df_merged['contact'] = df_merged['distance']<=7.5\n",
    "aupr = sklearn.metrics.average_precision_score(df_merged['contact'], df_merged['couplings'])\n",
    "precision, recall, trash = sklearn.metrics.precision_recall_curve(df_merged['contact'], df_merged['couplings'])\n",
    "\n",
    "fig, ax = plt.subplots()\n",
    "ax.plot(recall, precision)\n",
    "print(aupr)"
   ]
  },
  {
   "cell_type": "code",
   "execution_count": null,
   "metadata": {
    "collapsed": false
   },
   "outputs": [],
   "source": []
  },
  {
   "cell_type": "markdown",
   "metadata": {
    "collapsed": true
   },
   "source": [
    "# Systematic-ish"
   ]
  },
  {
   "cell_type": "code",
   "execution_count": 8,
   "metadata": {
    "collapsed": false
   },
   "outputs": [
    {
     "name": "stderr",
     "output_type": "stream",
     "text": [
      "/Users/adamhockenberry/Projects/DCA_weighting/Code/process_couplings.py:7: FutureWarning: Using a non-tuple sequence for multidimensional indexing is deprecated; use `arr[tuple(seq)]` instead of `arr[seq]`. In the future this will be interpreted as an array index, `arr[np.array(seq)]`, which will result either in an error or a different result.\n",
      "  df_ccm_pivot.values[[np.arange(df_ccm_pivot.shape[0])]*2] = np.nan\n"
     ]
    }
   ],
   "source": [
    "results_dicty_ppv = {}\n",
    "results_dicty_aupr = {}\n",
    "\n",
    "\n",
    "prot_names = ['1a3aA', '1a6mA', '1a70A', '1aapA', '1abaA', '1ag6A']\n",
    "# prot_names = ['1a3aA']\n",
    "types_to_test = ['raw', 'apc', 'ent']\n",
    "\n",
    "length_modifier = 1.\n",
    "\n",
    "for type_to_test in types_to_test:\n",
    "    for infile in sorted(glob.glob('../Results/couplings/*.mat'))[:]:\n",
    "        prot_name = infile.split('/')[-1].split('.')[0]\n",
    "#         if prot_name not in prot_names:\n",
    "#             continue\n",
    "#         print(infile)\n",
    "        params = '.'.join(infile.split('/')[-1].split('.')[1:-1])\n",
    "        if params[:3] != type_to_test:\n",
    "            continue\n",
    "#         print('Loading:', prot_name, params)\n",
    "        testy_df = process_couplings.process_ccmpredpy(infile)\n",
    "        df_contacts = pd.read_csv('../../Phylogenetic_couplings/Data/'\n",
    "                                  'psicov150_aln_pdb/pdb/{}_SCcenter_contacts.csv'.format(prot_name), index_col=0)\n",
    "        df_contacts, df_contacts_stack = process_couplings.process_contacts_df(df_contacts, 1)\n",
    "        seq = list(SeqIO.parse('../../Phylogenetic_couplings/Data/'\n",
    "                               'psicov150_aln_pdb/aln_fasta/{}.fasta'.format(prot_name), 'fasta'))[0]\n",
    "        seq = str(seq.seq)\n",
    "        df_merged = process_couplings.merge_contacts_couplings(df_contacts_stack, testy_df, seq)\n",
    "        df_merged = process_couplings.remove_close(df_merged, 6)\n",
    "        ppv_val, ns = process_couplings.ppv_from_df(df_merged, int(len(seq)*length_modifier), length_cutoff=7.5)\n",
    "        try:\n",
    "            results_dicty_ppv[params].append(ppv_val)\n",
    "        except:\n",
    "            results_dicty_ppv[params] = [ppv_val]\n",
    "        #########\n",
    "        df_merged['contact'] = df_merged['distance']<7.5\n",
    "        aupr = sklearn.metrics.average_precision_score(df_merged['contact'], df_merged['couplings'])\n",
    "        precision, recall, trash = sklearn.metrics.precision_recall_curve(df_merged['contact'], df_merged['couplings'])\n",
    "        try:\n",
    "            results_dicty_aupr[params].append(aupr)\n",
    "        except:\n",
    "            results_dicty_aupr[params] = [aupr]"
   ]
  },
  {
   "cell_type": "code",
   "execution_count": 9,
   "metadata": {
    "collapsed": false
   },
   "outputs": [
    {
     "data": {
      "text/plain": [
       "dict_keys(['apc.simple_0.3', 'apc.simpleish_0.8', 'raw.simple_0.3_uniform', 'apc.simple_0.9_uniform', 'raw.simpleish_0.8', 'raw.simple_0.7', 'ent.simple_0.3', 'ent.simple_0.3_uniform', 'raw.simple_0.1_uniform', 'raw.ACL_maxScale', 'raw.simple_0.6_uniform', 'raw.simpleish_0.6', 'raw.ACL_meanScale', 'ent.simpleish_0.4', 'ent.ACL_maxScale_uniform.RelTime', 'apc.simpleish_0.5', 'raw.simple_0.2_uniform', 'raw.simpleish_0.7', 'raw.simple_0.9', 'apc.GSC_meanScale.RelTime', 'apc.simple_0.2', 'raw.simpleish_0.4', 'ent.simpleAJH_0.8', 'apc.HH_maxScale_uniform', 'raw.simple_1.0', 'raw.ACL_maxScale_uniform.RelTime', 'ent.simpleish_0.7', 'ent.simpleAJH_0.4', 'raw.simple_1.0_uniform', 'apc.simple_0.4', 'ent.simple_0.9_uniform', 'raw.ACL_meanScale.RelTime', 'raw.simpleAJH_0.4', 'ent.ACL_maxScale.RelTime', 'raw.GSC_maxScale_uniform.RelTime', 'apc.simpleAJH_0.6', 'apc.simpleish_0.4', 'ent.simpleish_0.9', 'ent.simple_0.4_uniform', 'ent.GSC_maxScale', 'ent.simple_0.5_uniform', 'ent.simpleAJH_0.7', 'ent.simple_0.6', 'ent.ACL_meanScale', 'raw.simple_0.4', 'ent.GSC_meanScale.RelTime', 'raw.simple_0.2', 'ent.simpleAJH_0.6', 'ent.simple_1.0_uniform', 'raw.simpleish_0.2', 'apc.ACL_maxScale.RelTime', 'apc.GSC_maxScale_uniform', 'apc.ACL_maxScale_uniform.RelTime', 'apc.simple_0.9', 'raw.simple_0.1', 'apc.simple_0.7', 'apc.GSC_meanScale', 'apc.simpleish_0.3', 'ent.simple_0.9', 'ent.simple_0.6_uniform', 'raw.simpleAJH_0.7', 'ent.simple_0.8', 'ent.simpleAJH_0.1', 'ent.ACL_maxScale', 'raw.GSC_meanScale.RelTime', 'apc.simple_0.1_uniform', 'apc.HH_maxScale', 'ent.simpleish_0.2', 'raw.simpleAJH_0.5', 'apc.simple_0.4_uniform', 'ent.GSC_maxScale.RelTime', 'apc.simpleish_0.7', 'apc.ACL_maxScale_uniform', 'raw.simple_0.8_uniform', 'raw.simpleish_0.9', 'raw.simple_0.8', 'apc.simpleAJH_0.7', 'ent.simpleAJH_0.3', 'apc.simpleish_0.6', 'raw.simple_0.5_uniform', 'ent.ACL_meanScale.RelTime', 'ent.HH_maxScale', 'raw.GSC_maxScale', 'apc.simple_1.0', 'ent.simple_0.1_uniform', 'apc.simple_0.8_uniform', 'raw.simpleAJH_0.8', 'apc.simple_0.6', 'apc.simple_0.1', 'ent.simple_0.7', 'raw.simpleish_0.5', 'apc.HH_meanScale', 'ent.uniform', 'raw.HH_maxScale', 'raw.simple_0.6', 'ent.simpleish_0.8', 'apc.simple_0.5', 'ent.HH_meanScale', 'raw.simpleAJH_0.9', 'apc.simpleAJH_0.1', 'raw.GSC_maxScale_uniform', 'apc.ACL_meanScale', 'raw.HH_maxScale_uniform', 'raw.simpleAJH_0.2', 'raw.ACL_maxScale.RelTime', 'ent.simpleAJH_0.5', 'raw.simpleAJH_0.1', 'ent.simple_0.5', 'apc.simple_0.2_uniform', 'ent.simple_0.2', 'raw.GSC_maxScale.RelTime', 'raw.simple_0.3', 'ent.simpleish_0.1', 'apc.simpleish_0.9', 'apc.uniform', 'apc.simpleAJH_0.2', 'ent.simple_0.1', 'raw.simple_0.7_uniform', 'apc.ACL_meanScale.RelTime', 'ent.HH_maxScale_uniform', 'raw.simpleAJH_0.6', 'ent.simple_1.0', 'apc.GSC_maxScale_uniform.RelTime', 'ent.GSC_maxScale_uniform.RelTime', 'ent.simpleish_0.6', 'ent.GSC_maxScale_uniform', 'apc.simpleAJH_0.8', 'apc.simpleAJH_0.3', 'raw.ACL_maxScale_uniform', 'raw.simpleish_0.3', 'apc.simpleish_0.1', 'ent.simple_0.8_uniform', 'raw.simpleAJH_0.3', 'apc.simple_0.6_uniform', 'apc.simpleAJH_0.5', 'apc.simple_1.0_uniform', 'ent.GSC_meanScale', 'raw.simple_0.4_uniform', 'apc.GSC_maxScale.RelTime', 'ent.simple_0.7_uniform', 'apc.simple_0.5_uniform', 'ent.simpleAJH_0.9', 'apc.GSC_maxScale', 'raw.GSC_meanScale', 'ent.simple_0.4', 'ent.ACL_maxScale_uniform', 'raw.simpleish_0.1', 'apc.ACL_maxScale', 'apc.simpleish_0.2', 'ent.simpleAJH_0.2', 'apc.simpleAJH_0.9', 'ent.simpleish_0.3', 'apc.simple_0.3_uniform', 'apc.simple_0.8', 'ent.simple_0.2_uniform', 'raw.simple_0.9_uniform', 'raw.HH_meanScale', 'raw.uniform', 'apc.simpleAJH_0.4', 'raw.simple_0.5', 'apc.simple_0.7_uniform', 'ent.simpleish_0.5'])"
      ]
     },
     "execution_count": 9,
     "metadata": {},
     "output_type": "execute_result"
    }
   ],
   "source": [
    "results_dicty_aupr.keys()"
   ]
  },
  {
   "cell_type": "code",
   "execution_count": 10,
   "metadata": {
    "collapsed": false
   },
   "outputs": [
    {
     "data": {
      "text/plain": [
       "[('apc.simpleish_0.8', 0.4107142857142857),\n",
       " ('apc.simpleish_0.6', 0.41),\n",
       " ('apc.simpleish_0.9', 0.41),\n",
       " ('apc.simpleish_0.7', 0.4090909090909091),\n",
       " ('apc.simpleAJH_0.8', 0.4072164948453608),\n",
       " ('apc.simple_0.8', 0.4072164948453608),\n",
       " ('apc.simple_0.7', 0.40594059405940597),\n",
       " ('apc.GSC_meanScale', 0.40594059405940597),\n",
       " ('apc.simpleAJH_0.7', 0.40594059405940597),\n",
       " ('apc.simple_0.9', 0.40425531914893614),\n",
       " ('apc.simpleAJH_0.9', 0.40425531914893614),\n",
       " ('apc.GSC_meanScale.RelTime', 0.4020618556701031),\n",
       " ('ent.simpleish_0.7', 0.4020618556701031),\n",
       " ('apc.simple_1.0', 0.3983402489626556),\n",
       " ('apc.uniform', 0.3983402489626556),\n",
       " ('apc.simple_1.0_uniform', 0.3983402489626556),\n",
       " ('apc.simple_0.9_uniform', 0.3977272727272727),\n",
       " ('apc.GSC_maxScale.RelTime', 0.39690721649484534),\n",
       " ('apc.HH_meanScale', 0.3953488372093023),\n",
       " ('ent.simpleAJH_0.8', 0.3939393939393939),\n",
       " ('ent.simple_0.8', 0.3939393939393939),\n",
       " ('ent.simpleish_0.8', 0.3939393939393939),\n",
       " ('ent.simpleish_0.6', 0.3917525773195876),\n",
       " ('apc.simple_0.8_uniform', 0.3905579399141631),\n",
       " ('ent.simple_0.8_uniform', 0.39),\n",
       " ('ent.simpleish_0.9', 0.3888888888888889),\n",
       " ('ent.simple_0.9', 0.3888888888888889),\n",
       " ('ent.simple_0.7_uniform', 0.3888888888888889),\n",
       " ('ent.simpleAJH_0.9', 0.3888888888888889),\n",
       " ('ent.simpleAJH_0.7', 0.3869047619047619),\n",
       " ('ent.simple_0.7', 0.3869047619047619),\n",
       " ('apc.GSC_maxScale', 0.38392857142857145),\n",
       " ('ent.simple_0.9_uniform', 0.3817427385892116),\n",
       " ('apc.simple_0.7_uniform', 0.3817427385892116),\n",
       " ('ent.GSC_meanScale.RelTime', 0.3806818181818182),\n",
       " ('ent.GSC_maxScale.RelTime', 0.3802083333333333),\n",
       " ('apc.simpleAJH_0.6', 0.3765432098765432),\n",
       " ('apc.simple_0.6', 0.3765432098765432),\n",
       " ('apc.simpleish_0.5', 0.37566137566137564),\n",
       " ('ent.simpleish_0.5', 0.37339055793991416),\n",
       " ('ent.simple_1.0_uniform', 0.37037037037037035),\n",
       " ('ent.uniform', 0.37037037037037035),\n",
       " ('ent.simple_1.0', 0.37037037037037035),\n",
       " ('ent.GSC_meanScale', 0.37037037037037035),\n",
       " ('ent.simple_0.6', 0.36904761904761907),\n",
       " ('ent.simpleAJH_0.6', 0.36904761904761907),\n",
       " ('apc.GSC_maxScale_uniform.RelTime', 0.36764705882352944),\n",
       " ('apc.simple_0.6_uniform', 0.36585365853658536),\n",
       " ('ent.HH_meanScale', 0.3648068669527897),\n",
       " ('apc.HH_maxScale', 0.3618421052631579),\n",
       " ('ent.simple_0.6_uniform', 0.35802469135802467),\n",
       " ('apc.HH_maxScale_uniform', 0.35185185185185186),\n",
       " ('ent.GSC_maxScale_uniform.RelTime', 0.35185185185185186),\n",
       " ('ent.GSC_maxScale', 0.3474576271186441),\n",
       " ('apc.GSC_maxScale_uniform', 0.34536082474226804),\n",
       " ('ent.HH_maxScale', 0.34210526315789475),\n",
       " ('apc.simple_0.5_uniform', 0.3333333333333333),\n",
       " ('ent.HH_maxScale_uniform', 0.3252032520325203),\n",
       " ('ent.GSC_maxScale_uniform', 0.32098765432098764),\n",
       " ('apc.simpleish_0.4', 0.3103448275862069),\n",
       " ('ent.simple_0.5_uniform', 0.3055555555555556),\n",
       " ('apc.simple_0.5', 0.30522088353413657),\n",
       " ('apc.simpleAJH_0.5', 0.30522088353413657),\n",
       " ('ent.simpleish_0.4', 0.3018867924528302),\n",
       " ('apc.ACL_meanScale.RelTime', 0.3018867924528302),\n",
       " ('ent.simpleAJH_0.5', 0.2978723404255319),\n",
       " ('ent.simple_0.5', 0.2978723404255319),\n",
       " ('apc.simple_0.4_uniform', 0.2802197802197802),\n",
       " ('apc.ACL_meanScale', 0.275),\n",
       " ('ent.ACL_meanScale.RelTime', 0.272108843537415),\n",
       " ('apc.ACL_maxScale_uniform.RelTime', 0.25925925925925924),\n",
       " ('raw.GSC_maxScale', 0.2565789473684211),\n",
       " ('ent.ACL_meanScale', 0.25),\n",
       " ('raw.GSC_maxScale.RelTime', 0.25),\n",
       " ('apc.ACL_maxScale_uniform', 0.24444444444444444),\n",
       " ('apc.simpleish_0.3', 0.24203821656050956),\n",
       " ('apc.simpleish_0.2', 0.23958333333333334),\n",
       " ('raw.GSC_maxScale_uniform.RelTime', 0.23809523809523808),\n",
       " ('raw.HH_maxScale_uniform', 0.23660714285714285),\n",
       " ('raw.HH_maxScale', 0.2361111111111111),\n",
       " ('apc.simpleish_0.1', 0.23529411764705882),\n",
       " ('raw.simple_0.6_uniform', 0.23109243697478993),\n",
       " ('raw.GSC_maxScale_uniform', 0.2301255230125523),\n",
       " ('ent.simple_0.4_uniform', 0.22340425531914893),\n",
       " ('apc.simple_0.3_uniform', 0.2222222222222222),\n",
       " ('raw.simple_0.5_uniform', 0.21794871794871795),\n",
       " ('ent.simpleish_0.3', 0.21505376344086022),\n",
       " ('raw.simple_0.7_uniform', 0.21301775147928995),\n",
       " ('ent.ACL_maxScale_uniform.RelTime', 0.21),\n",
       " ('raw.simpleish_0.5', 0.20952380952380953),\n",
       " ('raw.simpleish_0.4', 0.20754716981132076),\n",
       " ('ent.simpleAJH_0.4', 0.20555555555555555),\n",
       " ('ent.simple_0.4', 0.20555555555555555),\n",
       " ('apc.ACL_maxScale.RelTime', 0.20253164556962025),\n",
       " ('apc.simple_0.4', 0.20238095238095238),\n",
       " ('apc.simpleAJH_0.4', 0.20238095238095238),\n",
       " ('raw.simple_0.8_uniform', 0.20168067226890757),\n",
       " ('raw.simple_0.7', 0.20103092783505155),\n",
       " ('raw.simpleish_0.6', 0.20103092783505155),\n",
       " ('raw.simpleish_0.7', 0.20103092783505155),\n",
       " ('raw.simpleAJH_0.7', 0.20103092783505155),\n",
       " ('raw.simple_0.6', 0.19902912621359223),\n",
       " ('raw.simpleAJH_0.6', 0.19902912621359223),\n",
       " ('raw.simple_0.4_uniform', 0.19642857142857142),\n",
       " ('apc.simple_0.2_uniform', 0.1958762886597938),\n",
       " ('raw.simpleish_0.8', 0.19540229885057472),\n",
       " ('raw.simple_0.8', 0.19540229885057472),\n",
       " ('raw.simpleAJH_0.8', 0.19540229885057472),\n",
       " ('ent.ACL_maxScale.RelTime', 0.192),\n",
       " ('raw.simple_0.9', 0.19078947368421054),\n",
       " ('raw.simpleAJH_0.9', 0.19078947368421054),\n",
       " ('ent.ACL_maxScale_uniform', 0.19047619047619047),\n",
       " ('raw.ACL_maxScale_uniform.RelTime', 0.189873417721519),\n",
       " ('apc.simple_0.2', 0.1875),\n",
       " ('apc.simpleAJH_0.2', 0.1875),\n",
       " ('ent.simpleish_0.2', 0.18604651162790697),\n",
       " ('apc.simple_0.1_uniform', 0.18571428571428572),\n",
       " ('apc.simple_0.1', 0.18571428571428572),\n",
       " ('apc.simpleAJH_0.1', 0.18571428571428572),\n",
       " ('ent.simpleish_0.1', 0.18571428571428572),\n",
       " ('raw.simple_0.9_uniform', 0.18487394957983194),\n",
       " ('raw.simpleAJH_0.5', 0.18181818181818182),\n",
       " ('raw.simple_0.5', 0.18181818181818182),\n",
       " ('raw.simpleish_0.9', 0.1813953488372093),\n",
       " ('raw.simpleish_0.3', 0.18),\n",
       " ('apc.simple_0.3', 0.17763157894736842),\n",
       " ('apc.simpleAJH_0.3', 0.17763157894736842),\n",
       " ('ent.simple_0.3_uniform', 0.17553191489361702),\n",
       " ('raw.HH_meanScale', 0.1751412429378531),\n",
       " ('raw.ACL_maxScale_uniform', 0.1722488038277512),\n",
       " ('apc.ACL_maxScale', 0.171875),\n",
       " ('raw.simple_1.0', 0.17045454545454544),\n",
       " ('raw.simple_1.0_uniform', 0.17045454545454544),\n",
       " ('raw.simpleish_0.1', 0.17045454545454544),\n",
       " ('raw.uniform', 0.17045454545454544),\n",
       " ('raw.GSC_meanScale.RelTime', 0.16891891891891891),\n",
       " ('raw.simple_0.3_uniform', 0.16666666666666666),\n",
       " ('raw.simpleish_0.2', 0.16483516483516483),\n",
       " ('raw.GSC_meanScale', 0.16483516483516483),\n",
       " ('ent.simple_0.3', 0.14893617021276595),\n",
       " ('ent.simpleAJH_0.3', 0.14893617021276595),\n",
       " ('raw.simple_0.2_uniform', 0.14634146341463414),\n",
       " ('raw.simple_0.2', 0.145),\n",
       " ('raw.simpleAJH_0.2', 0.145),\n",
       " ('ent.ACL_maxScale', 0.14432989690721648),\n",
       " ('ent.simple_0.2', 0.14285714285714285),\n",
       " ('ent.simpleAJH_0.2', 0.14285714285714285),\n",
       " ('ent.simple_0.2_uniform', 0.14146341463414633),\n",
       " ('raw.simple_0.1_uniform', 0.1388888888888889),\n",
       " ('raw.simple_0.1', 0.1388888888888889),\n",
       " ('raw.simpleAJH_0.1', 0.1388888888888889),\n",
       " ('ent.simpleAJH_0.1', 0.1347517730496454),\n",
       " ('ent.simple_0.1_uniform', 0.1347517730496454),\n",
       " ('ent.simple_0.1', 0.1347517730496454),\n",
       " ('raw.simple_0.3', 0.13333333333333333),\n",
       " ('raw.simpleAJH_0.3', 0.13333333333333333),\n",
       " ('raw.ACL_maxScale.RelTime', 0.12582781456953643),\n",
       " ('raw.simpleAJH_0.4', 0.12121212121212122),\n",
       " ('raw.simple_0.4', 0.12121212121212122),\n",
       " ('raw.ACL_meanScale.RelTime', 0.11949685534591195),\n",
       " ('raw.ACL_meanScale', 0.10344827586206896),\n",
       " ('raw.ACL_maxScale', 0.09340659340659341)]"
      ]
     },
     "execution_count": 10,
     "metadata": {},
     "output_type": "execute_result"
    }
   ],
   "source": [
    "best_results = []\n",
    "for key, val in results_dicty_ppv.items():\n",
    "#     if key[:3] == 'raw':\n",
    "        best_results.append((key, np.median(val)))\n",
    "best_results = sorted(best_results, key=lambda x: x[1], reverse=True)\n",
    "best_results"
   ]
  },
  {
   "cell_type": "markdown",
   "metadata": {
    "collapsed": false
   },
   "source": [
    "# Visualizing "
   ]
  },
  {
   "cell_type": "code",
   "execution_count": 11,
   "metadata": {
    "collapsed": true
   },
   "outputs": [],
   "source": [
    "coup_type = 'apc'\n",
    "#\n",
    "results_dicty = results_dicty_ppv\n",
    "metric = 'PPV'\n",
    "#\n",
    "# results_dicty = results_dicty_aupr\n",
    "# metric = 'AUPR'"
   ]
  },
  {
   "cell_type": "markdown",
   "metadata": {},
   "source": [
    "** Boxplot with means **"
   ]
  },
  {
   "cell_type": "code",
   "execution_count": 12,
   "metadata": {
    "collapsed": false
   },
   "outputs": [
    {
     "name": "stdout",
     "output_type": "stream",
     "text": [
      "16 12\n"
     ]
    },
    {
     "data": {
      "image/png": "[encoded data removed]",
      "text/plain": [
       "<matplotlib.figure.Figure at 0x11c7243c8>"
      ]
     },
     "metadata": {},
     "output_type": "display_data"
    }
   ],
   "source": [
    "coup_type = 'apc'\n",
    "\n",
    "data = [results_dicty['{}.uniform'.format(coup_type)]]+\\\n",
    "[results_dicty['{}.simple_0.{}'.format(coup_type, i)] for i in range(1,10)]+\\\n",
    "[results_dicty['{}.HH_meanScale'.format(coup_type)]]+\\\n",
    "[results_dicty['{}.GSC_meanScale'.format(coup_type)]]+\\\n",
    "[results_dicty['{}.ACL_meanScale'.format(coup_type)]]+\\\n",
    "[results_dicty['{}.HH_maxScale'.format(coup_type)]]+\\\n",
    "[results_dicty['{}.GSC_maxScale'.format(coup_type)]]+\\\n",
    "[results_dicty['{}.ACL_maxScale'.format(coup_type)]]\n",
    "\n",
    "labels = ['Uniform']+[str(i/10) for i in range(1, 10, 2)]+['HH', 'GSC', 'ACL']+['HH', 'GSC', 'ACL']\n",
    "print(len(data), len(labels))\n",
    "xvals= [-0.1]+[i/10 for i in range(2,11)]+[i/10 for i in range(12, 18, 2)]+[i/10 for i in range(18, 24, 2)]\n",
    "\n",
    "\n",
    "fig, ax = plt.subplots(figsize=(10,4))\n",
    "bplot = ax.boxplot(data, positions=xvals, widths=(0.07), patch_artist=True)\n",
    "for patch in bplot['boxes']:\n",
    "    patch.set_facecolor('white')\n",
    "ax.axvline(0.1, c='k')\n",
    "ax.axvline(1.1, c='k')\n",
    "ax.axvline(1.7, c='k')\n",
    "ax.set_xlim(-0.3, 2.3)\n",
    "ax.set_xticks([-0.1]+[0.2, 0.4, 0.6, 0.8, 1.0]+[1.2, 1.4, 1.6]+[1.8, 2.0, 2.2])\n",
    "ax.set_xticklabels(labels)\n",
    "\n",
    "data = [np.mean(results_dicty['{}.simple_0.{}'.format(coup_type, i)]) for i in range(1,10)]\n",
    "xvals= [i/10 for i in range(2,11)]\n",
    "ax.plot([-0.1], [np.mean(results_dicty['{}.uniform'.format(coup_type)])], marker='s', zorder=3, c='firebrick')\n",
    "ax.axhline(np.mean(results_dicty['{}.uniform'.format(coup_type)]), linestyle='--', c='firebrick', alpha=0.5, zorder=4)\n",
    "ax.plot(xvals, data, marker='s', zorder=3)\n",
    "ax.plot([1.2], [np.mean(results_dicty['{}.HH_meanScale'.format(coup_type)])], marker='s', zorder=3, c='steelblue')\n",
    "ax.plot([1.4], [np.mean(results_dicty['{}.GSC_meanScale'.format(coup_type)])], marker='s', zorder=3, c='steelblue')\n",
    "ax.plot([1.6], [np.mean(results_dicty['{}.ACL_meanScale'.format(coup_type)])], marker='s', zorder=3, c='steelblue')\n",
    "\n",
    "ax.plot([1.8], [np.mean(results_dicty['{}.HH_maxScale'.format(coup_type)])], marker='s', zorder=3, c='steelblue')\n",
    "ax.plot([2.0], [np.mean(results_dicty['{}.GSC_maxScale'.format(coup_type)])], marker='s', zorder=3, c='steelblue')\n",
    "ax.plot([2.2], [np.mean(results_dicty['{}.ACL_maxScale'.format(coup_type)])], marker='s', zorder=3, c='steelblue')\n",
    "\n",
    "ax.set_ylabel(metric)\n",
    "# ax.set_xlabel('Threshold ($\\lambda$)               Mean scale        Max scale',\\\n",
    "#               horizontalalignment='left', x=0.25)\n",
    "ax.set_xlabel('Threshold ($\\lambda$)',\\\n",
    "              horizontalalignment='left', x=0.25)\n",
    "ax.text(0.575, -0.135, 'Mean scale        Max scale', transform=ax.transAxes, fontsize=18,\n",
    "        verticalalignment='top')\n",
    "ax.set_ylim(0, 0.85)\n",
    "ax.grid(False)\n",
    "plt.savefig('{}/{}_summary.pdf'.format(figs_dir, coup_type), bbox_inches='tight')"
   ]
  },
  {
   "cell_type": "code",
   "execution_count": 15,
   "metadata": {
    "collapsed": false
   },
   "outputs": [
    {
     "name": "stdout",
     "output_type": "stream",
     "text": [
      "apc.simple_0.8 0.4103396962961617 0.4072164948453608\n",
      "apc.simpleish_0.8 0.4124444984476019 0.4107142857142857\n",
      "Significance: WilcoxonResult(statistic=1975.0, pvalue=0.11040226122470852)\n"
     ]
    }
   ],
   "source": [
    "# compare_a = 'raw.uniform'\n",
    "# compare_b = 'apc.uniform'\n",
    "# compare_a = 'raw.uniform'\n",
    "# compare_b = 'raw.GSC_maxScale'\n",
    "# compare_a = 'apc.uniform'\n",
    "compare_a = 'apc.simple_0.8'\n",
    "compare_b = 'apc.simpleish_0.8'\n",
    "# compare_b = 'apc.simple_0.8'\n",
    "# compare_b = 'apc.GSC_meanScale.RelTime'\n",
    "# compare_b = 'apc.HH_meanScale'\n",
    "\n",
    "\n",
    "print(compare_a, np.mean(results_dicty[compare_a]), np.median(results_dicty[compare_a]))\n",
    "print(compare_b, np.mean(results_dicty[compare_b]), np.median(results_dicty[compare_b]))\n",
    "print('Significance:', stats.wilcoxon(results_dicty[compare_a], results_dicty[compare_b]))"
   ]
  },
  {
   "cell_type": "code",
   "execution_count": 16,
   "metadata": {
    "collapsed": false
   },
   "outputs": [
    {
     "data": {
      "text/plain": [
       "1.0"
      ]
     },
     "execution_count": 16,
     "metadata": {},
     "output_type": "execute_result"
    }
   ],
   "source": [
    "np.median(np.array(results_dicty[compare_b])/np.array(results_dicty[compare_a]))"
   ]
  },
  {
   "cell_type": "markdown",
   "metadata": {},
   "source": [
    "**Comparing modified identity-based method**"
   ]
  },
  {
   "cell_type": "code",
   "execution_count": 88,
   "metadata": {
    "collapsed": false
   },
   "outputs": [
    {
     "name": "stdout",
     "output_type": "stream",
     "text": [
      "9 6\n"
     ]
    },
    {
     "data": {
      "image/png": "[encoded data removed]",
      "text/plain": [
       "<matplotlib.figure.Figure at 0x122589080>"
      ]
     },
     "metadata": {},
     "output_type": "display_data"
    }
   ],
   "source": [
    "coup_type = 'raw'\n",
    "labels = ['Uniform']+[str(i/10) for i in range(1, 10, 2)]\n",
    "print(len(data), len(labels))\n",
    "xvals= [-0.1]+[i/10 for i in range(2,11)]\n",
    "\n",
    "\n",
    "fig, ax = plt.subplots(figsize=(8,3))\n",
    "ax.set_xlim(-0.3, 1.1)\n",
    "ax.set_xticks([-0.1]+[0.2, 0.4, 0.6, 0.8, 1.0])\n",
    "ax.set_xticklabels(labels)\n",
    "ax.axvline(0.1, c='k')\n",
    "ax.plot([-0.1], [np.mean(results_dicty['{}.uniform'.format(coup_type)])], marker='s', zorder=3, c='firebrick', markersize=8)\n",
    "ax.axhline(np.mean(results_dicty['{}.uniform'.format(coup_type)]), linestyle='--', c='firebrick', alpha=0.5, zorder=4)\n",
    "data = [np.mean(results_dicty['{}.simple_0.{}'.format(coup_type, i)]) for i in range(1,10)]\n",
    "xvals= [i/10 for i in range(2,11)]\n",
    "ax.plot(xvals, data, marker='s', zorder=4, label='Original', markersize=8)\n",
    "data = [np.mean(results_dicty['{}.simpleish_0.{}'.format(coup_type, i)]) for i in range(1,10)]\n",
    "xvals= [i/10 for i in range(2,11)]\n",
    "ax.plot(xvals, data, marker='s', zorder=4, label='Similarity-adjusted', markersize=8)\n",
    "ax.set_ylabel(metric)\n",
    "ax.set_xlabel('Threshold ($\\lambda$)',\\\n",
    "              horizontalalignment='left', x=0.525)\n",
    "ax.set_ylim(0.1, 0.45)\n",
    "legend = ax.legend(loc=1, fontsize=14, framealpha=1.0)\n",
    "plt.savefig('{}/{}_identity_compare.pdf'.format(figs_dir, coup_type), bbox_inches='tight')\n",
    "# ax.grid(False)"
   ]
  },
  {
   "cell_type": "markdown",
   "metadata": {},
   "source": [
    "**Comparing weights computed from regular trees vs RelTime trees**"
   ]
  },
  {
   "cell_type": "code",
   "execution_count": 75,
   "metadata": {
    "collapsed": false
   },
   "outputs": [
    {
     "data": {
      "image/png": "[encoded data removed]",
      "text/plain": [
       "<matplotlib.figure.Figure at 0x1225e9240>"
      ]
     },
     "metadata": {},
     "output_type": "display_data"
    }
   ],
   "source": [
    "coup_type = 'apc'\n",
    "x_vals = [-0.1, 0.2, 0.3, 0.5, 0.6, 0.8, 0.9, 1.1, 1.2]\n",
    "\n",
    "labels = ['Uniform'] +['Raw tree', 'RelTime tree']*4\n",
    "\n",
    "colors = ['firebrick'] + ['steelblue', 'darkorange']*4\n",
    "y_vals = [np.mean(results_dicty['{}.uniform'.format(coup_type)]),\\\n",
    "         np.mean(results_dicty['{}.GSC_meanScale'.format(coup_type)]),\\\n",
    "         np.mean(results_dicty['{}.GSC_meanScale.RelTime'.format(coup_type)]),\\\n",
    "         np.mean(results_dicty['{}.ACL_meanScale'.format(coup_type)]),\\\n",
    "         np.mean(results_dicty['{}.ACL_meanScale.RelTime'.format(coup_type)]),\\\n",
    "         np.mean(results_dicty['{}.GSC_maxScale'.format(coup_type)]),\\\n",
    "         np.mean(results_dicty['{}.GSC_maxScale.RelTime'.format(coup_type)]),\\\n",
    "         np.mean(results_dicty['{}.ACL_maxScale'.format(coup_type)]),\\\n",
    "         np.mean(results_dicty['{}.ACL_maxScale.RelTime'.format(coup_type)])]\n",
    "y_errs = [np.std(results_dicty['{}.uniform'.format(coup_type)]),\\\n",
    "         np.std(results_dicty['{}.GSC_meanScale'.format(coup_type)]),\\\n",
    "         np.std(results_dicty['{}.GSC_meanScale.RelTime'.format(coup_type)]),\\\n",
    "         np.std(results_dicty['{}.ACL_meanScale'.format(coup_type)]),\\\n",
    "         np.std(results_dicty['{}.ACL_meanScale.RelTime'.format(coup_type)]),\\\n",
    "         np.std(results_dicty['{}.GSC_maxScale'.format(coup_type)]),\\\n",
    "         np.std(results_dicty['{}.GSC_maxScale.RelTime'.format(coup_type)]),\\\n",
    "         np.std(results_dicty['{}.ACL_maxScale'.format(coup_type)]),\\\n",
    "         np.std(results_dicty['{}.ACL_maxScale.RelTime'.format(coup_type)])]\n",
    "\n",
    "fig, ax = plt.subplots(figsize=(6,3))\n",
    "ax.set_xlim(-0.3, 1.35)\n",
    "ax.errorbar(x_vals[:1], y_vals[:1], yerr=y_errs[:1], marker='s', markersize=10,\\\n",
    "            linestyle='', c='firebrick')\n",
    "ax.errorbar(x_vals[1::2], y_vals[1::2], yerr=y_errs[1::2], marker='s', markersize=10,\\\n",
    "            linestyle='', c='steelblue', zorder=4)\n",
    "ax.errorbar(x_vals[2::2], y_vals[2::2], yerr=y_errs[2::2], marker='s', markersize=10,\\\n",
    "            linestyle='', c='darkorange', zorder=4)\n",
    "\n",
    "ax.plot(x_vals[1::2], y_vals[1::2], marker='s', markersize=10,\\\n",
    "            linestyle='', c='steelblue', label='Raw tree', zorder=4)\n",
    "ax.plot(x_vals[2::2], y_vals[2::2], marker='s', markersize=10,\\\n",
    "            linestyle='', c='darkorange', label='RelTime tree', zorder=4)\n",
    "\n",
    "ax.axvline(0.1, c='k')\n",
    "ax.axhline(np.mean(results_dicty['{}.uniform'.format(coup_type)]), linestyle='--', c='firebrick', alpha=0.5, zorder=4)\n",
    "\n",
    "leg = ax.legend(loc='center left', bbox_to_anchor=(0.22, 1.1), ncol=2, fontsize=14)\n",
    "ax.set_xticks([-0.1]+[0.25, 0.55, 0.85, 1.15])\n",
    "ax.set_xticklabels(['Uniform', 'GSC', 'ACL', 'GSC', 'ACL'])\n",
    "ax.set_xlabel('Mean scale       Max scale',\\\n",
    "              horizontalalignment='left', x=0.28)\n",
    "ax.set_ylim(0, 0.58)\n",
    "ax.set_ylabel('PPV')\n",
    "plt.savefig('{}/{}_RelTime.pdf'.format(figs_dir, coup_type), bbox_inches='tight')\n",
    "# ax.grid(False)"
   ]
  },
  {
   "cell_type": "code",
   "execution_count": null,
   "metadata": {
    "collapsed": true
   },
   "outputs": [],
   "source": []
  },
  {
   "cell_type": "markdown",
   "metadata": {},
   "source": [
    "# Testing my APC/Entropy correction implementations"
   ]
  },
  {
   "cell_type": "code",
   "execution_count": null,
   "metadata": {
    "collapsed": false
   },
   "outputs": [],
   "source": [
    "prot_name = '1aoeA'\n",
    "testy_df = process_couplings.process_ccmpredpy('../Results/couplings/{}.raw.GSC_meanScale.mat'.format(prot_name))\n",
    "apc_df = process_couplings.process_ccmpredpy('../Results/couplings/{}.apc.GSC_meanScale.mat'.format(prot_name))"
   ]
  },
  {
   "cell_type": "code",
   "execution_count": null,
   "metadata": {
    "collapsed": false
   },
   "outputs": [],
   "source": [
    "testy_df.head()"
   ]
  },
  {
   "cell_type": "code",
   "execution_count": null,
   "metadata": {
    "collapsed": false
   },
   "outputs": [],
   "source": [
    "temp_row = {}\n",
    "for i in list(set(list(testy_df['aa1_loc'])+list(testy_df['aa2_loc']))):\n",
    "    temp_df = testy_df[(testy_df['aa1_loc'] == i) | (testy_df['aa2_loc'] == i)]\n",
    "    temp_row[i] = np.mean(temp_df['couplings'])\n",
    "testy_df['apc'] = np.nan\n",
    "cmean = np.mean(testy_df['couplings'])\n",
    "for index in testy_df.index:\n",
    "    coupling = testy_df.loc[index]['couplings']\n",
    "    ci = temp_row[testy_df.loc[index]['aa1_loc']]\n",
    "    cj = temp_row[testy_df.loc[index]['aa2_loc']]\n",
    "    testy_df.set_value(index, 'apc',coupling - ((ci*cj)/cmean))"
   ]
  },
  {
   "cell_type": "code",
   "execution_count": null,
   "metadata": {
    "collapsed": false
   },
   "outputs": [],
   "source": [
    "fig, ax = plt.subplots()\n",
    "ax.plot(testy_df['couplings'], testy_df['apc'], 'bo')\n",
    "fig, ax = plt.subplots()\n",
    "ax.plot(apc_df['couplings'], testy_df['apc'], 'bo')"
   ]
  },
  {
   "cell_type": "code",
   "execution_count": null,
   "metadata": {
    "collapsed": false
   },
   "outputs": [],
   "source": [
    "stats.linregress(apc_df['couplings'], testy_df['apc'])"
   ]
  },
  {
   "cell_type": "markdown",
   "metadata": {},
   "source": [
    "**Ents**"
   ]
  },
  {
   "cell_type": "code",
   "execution_count": null,
   "metadata": {
    "collapsed": false
   },
   "outputs": [],
   "source": [
    "from Bio.Alphabet.IUPAC import IUPACProtein\n",
    "IUPACProtein.letters"
   ]
  },
  {
   "cell_type": "code",
   "execution_count": null,
   "metadata": {
    "collapsed": true
   },
   "outputs": [],
   "source": [
    "def sequence_entropy_from_msa(msa_file, weights_file=False, base=2, skip_gaps=False):\n",
    "    '''\n",
    "    This should calculate the (un)weighted sequence entropy directly from a fasta file.\n",
    "    If not provided, all weights are even. If provided, weights will be read directly\n",
    "    from the accompanying weights_file.\n",
    "    \n",
    "    '''\n",
    "    \n",
    "    alignment = SeqIO.parse(msa_file, format='fasta')\n",
    "    aln_mat = np.array([list(i.seq) for i in alignment])\n",
    "    \n",
    "    #####################\n",
    "    #####################\n",
    "    for i in IUPACProtein.letters:\n",
    "        aln_mat = np.append(aln_mat, [list(i*aln_mat.shape[1])], axis=0)\n",
    "    #####################\n",
    "    #####################\n",
    "\n",
    "    aln_mat_T = aln_mat.T\n",
    "    \n",
    "    if weights_file:\n",
    "        weights = np.genfromtxt(weights_file)\n",
    "    else:\n",
    "        weights = np.ones(aln_mat_T[0].shape)\n",
    "    \n",
    "    initial_shape = aln_mat_T.shape\n",
    "    flat_seqs = aln_mat_T.flatten()\n",
    "    order, flat_array = np.unique(flat_seqs, return_inverse=True)\n",
    "    if '-' in order:\n",
    "        assert order[0] == '-'\n",
    "    else:\n",
    "        if skip_gaps:\n",
    "            skip_gaps = False\n",
    "            print('No gapped characters found in alignment, skip_gaps flag is meaningless')\n",
    "\n",
    "    replaced_seqs_T = flat_array.reshape(initial_shape)\n",
    "    \n",
    "    ents_all = []\n",
    "    for aln_position in replaced_seqs_T:\n",
    "        if skip_gaps:\n",
    "            ents_all.append(stats.entropy(np.bincount(aln_position,\\\n",
    "                                    weights=weights, minlength=21)[1:], base=base))\n",
    "        else:\n",
    "            ents_all.append(stats.entropy(np.bincount(aln_position,\\\n",
    "                                    weights=weights, minlength=21), base=base))   \n",
    "    return ents_all"
   ]
  },
  {
   "cell_type": "code",
   "execution_count": null,
   "metadata": {
    "collapsed": false
   },
   "outputs": [],
   "source": [
    "prot_name = '1aoeA'\n",
    "\n",
    "testy_df = process_couplings.process_ccmpredpy('../Results/couplings/{}.raw.uniform.mat'.format(prot_name))\n",
    "ent_df = process_couplings.process_ccmpredpy('../Results/couplings/{}.ent.uniform.mat'.format(prot_name))\n",
    "\n",
    "msa_file = '../../Phylogenetic_couplings/Data/'\\\n",
    "                'psicov150_aln_pdb/aln_fasta_max1k/{}.fasta'.format(prot_name)\n",
    "emp_entropies = sequence_entropy_from_msa(msa_file, skip_gaps=False, base=2)\n",
    "\n",
    "# msa_file = '../../Phylogenetic_couplings/Data/'\\\n",
    "#                 'psicov150_aln_pdb/aln_fasta_max1k/{}.fasta'.format(prot_name)\n",
    "# weights_file = '../../DCA_weighting/Data/{}.HH.test'.format(prot_name)\n",
    "# emp_entropies = sequence_entropy_from_msa(msa_file,\\\n",
    "#                                           weights_file=weights_file, skip_gaps=False, base=2)\n",
    "\n",
    "\n",
    "\n",
    "\n",
    "testy_df['score_h'] = np.nan\n",
    "testy_df['first_h'] = np.nan\n",
    "testy_df['second_h'] = np.nan\n",
    "\n",
    "for index in testy_df.index:\n",
    "    fr = emp_entropies[int(testy_df.loc[index]['aa1_loc'])-1]\n",
    "    sr = emp_entropies[int(testy_df.loc[index]['aa2_loc'])-1]\n",
    "    testy_df.set_value(index, 'score_h', (fr**(1/2))*(sr**(1/2)))\n",
    "    testy_df.set_value(index, 'first_h', fr)\n",
    "    testy_df.set_value(index, 'second_h', sr)\n",
    "\n",
    "# ###########\n",
    "alpha_1 = np.sum(testy_df['couplings']*testy_df['score_h'])\n",
    "alpha_2 = np.sum(testy_df['first_h'] * testy_df['second_h'])\n",
    "alpha = alpha_1/alpha_2\n",
    "testy_df['couplings_ent'] = testy_df['couplings'] - (alpha * testy_df['score_h'])\n",
    "# ###########\n",
    "###########\n",
    "\n"
   ]
  },
  {
   "cell_type": "code",
   "execution_count": null,
   "metadata": {
    "collapsed": false
   },
   "outputs": [],
   "source": [
    "fig, ax = plt.subplots()\n",
    "ax.plot(testy_df['couplings_ent'], ent_df['couplings'], 'bo')\n",
    "\n",
    "stats.linregress(testy_df['couplings_ent'], ent_df['couplings'])"
   ]
  },
  {
   "cell_type": "code",
   "execution_count": null,
   "metadata": {
    "collapsed": true
   },
   "outputs": [],
   "source": []
  },
  {
   "cell_type": "code",
   "execution_count": null,
   "metadata": {
    "collapsed": false
   },
   "outputs": [],
   "source": [
    "df_contacts = pd.read_csv('../../Phylogenetic_couplings/Data/'\n",
    "                          'psicov150_aln_pdb/pdb/{}_CB_contacts.csv'.format(prot_name), index_col=0)\n",
    "df_contacts, df_contacts_stack = process_couplings.process_contacts_df(df_contacts, 1)\n",
    "seq = list(SeqIO.parse('../../Phylogenetic_couplings/Data/'\n",
    "                       'psicov150_aln_pdb/aln_fasta/{}.fasta'.format(prot_name), 'fasta'))[0]\n",
    "seq = str(seq.seq)\n",
    "df_merged = process_couplings.merge_contacts_couplings(df_contacts_stack, ent_df, seq)\n",
    "df_merged['contact'] = df_merged['distance']<7.5\n",
    "aupr = sklearn.metrics.average_precision_score(df_merged['contact'], df_merged['couplings'])\n",
    "print(aupr)"
   ]
  },
  {
   "cell_type": "code",
   "execution_count": null,
   "metadata": {
    "collapsed": false
   },
   "outputs": [],
   "source": [
    "hmmm = pd.concat([df_merged, testy_df['couplings_ent']],\\\n",
    "                      axis=1, join_axes=[df_merged.index])\n",
    "hmmm.sort_values('couplings_ent', ascending=False, inplace=True)"
   ]
  },
  {
   "cell_type": "code",
   "execution_count": null,
   "metadata": {
    "collapsed": false
   },
   "outputs": [],
   "source": [
    "aupr = sklearn.metrics.average_precision_score(hmmm['contact'], hmmm['couplings_ent'])\n",
    "print(aupr)"
   ]
  },
  {
   "cell_type": "code",
   "execution_count": null,
   "metadata": {
    "collapsed": true
   },
   "outputs": [],
   "source": []
  }
 ],
 "metadata": {
  "kernelspec": {
   "display_name": "Python 3",
   "language": "python",
   "name": "python3"
  },
  "language_info": {
   "codemirror_mode": {
    "name": "ipython",
    "version": 3
   },
   "file_extension": ".py",
   "mimetype": "text/x-python",
   "name": "python",
   "nbconvert_exporter": "python",
   "pygments_lexer": "ipython3",
   "version": "3.4.5"
  },
  "toc": {
   "colors": {
    "hover_highlight": "#DAA520",
    "navigate_num": "#000000",
    "navigate_text": "#333333",
    "running_highlight": "#FF0000",
    "selected_highlight": "#FFD700",
    "sidebar_border": "#EEEEEE",
    "wrapper_background": "#FFFFFF"
   },
   "moveMenuLeft": true,
   "nav_menu": {
    "height": "12px",
    "width": "252px"
   },
   "navigate_menu": true,
   "number_sections": true,
   "sideBar": true,
   "threshold": 4,
   "toc_cell": false,
   "toc_section_display": "block",
   "toc_window_display": false,
   "widenNotebook": false
  }
 },
 "nbformat": 4,
 "nbformat_minor": 2
}
