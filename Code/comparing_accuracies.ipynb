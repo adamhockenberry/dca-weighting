{
 "cells": [
  {
   "cell_type": "code",
   "execution_count": 1,
   "metadata": {
    "collapsed": true
   },
   "outputs": [],
   "source": [
    "%matplotlib inline\n",
    "%load_ext autoreload\n",
    "%autoreload 2"
   ]
  },
  {
   "cell_type": "markdown",
   "metadata": {},
   "source": [
    "# Overview"
   ]
  },
  {
   "cell_type": "markdown",
   "metadata": {},
   "source": [
    "**Basic imports**"
   ]
  },
  {
   "cell_type": "code",
   "execution_count": 2,
   "metadata": {
    "collapsed": true
   },
   "outputs": [],
   "source": [
    "import pandas as pd\n",
    "import numpy as np\n",
    "\n",
    "from Bio import SeqIO\n",
    "from matplotlib import pyplot as plt\n",
    "\n",
    "import sklearn.metrics\n",
    "\n",
    "from scipy import stats\n",
    "import glob"
   ]
  },
  {
   "cell_type": "markdown",
   "metadata": {},
   "source": [
    "**Custom imports**"
   ]
  },
  {
   "cell_type": "code",
   "execution_count": 3,
   "metadata": {
    "collapsed": true
   },
   "outputs": [],
   "source": [
    "import process_couplings"
   ]
  },
  {
   "cell_type": "markdown",
   "metadata": {},
   "source": [
    "**Plotting parameters**"
   ]
  },
  {
   "cell_type": "code",
   "execution_count": 4,
   "metadata": {
    "collapsed": true
   },
   "outputs": [],
   "source": [
    "import matplotlib\n",
    "matplotlib.rcParams['xtick.labelsize'] = 16\n",
    "matplotlib.rcParams['ytick.labelsize'] = 16\n",
    "matplotlib.rcParams['axes.labelsize'] = 18\n",
    "matplotlib.rcParams['axes.titlesize'] = 18\n",
    "\n",
    "matplotlib.rcParams['axes.grid'] = True\n",
    "matplotlib.rcParams['grid.color'] = '0.5'\n",
    "matplotlib.rcParams['grid.linewidth'] = '0.5'\n",
    "\n",
    "matplotlib.rcParams['axes.edgecolor'] = '0.25'\n",
    "matplotlib.rcParams['xtick.color'] = '0'\n",
    "matplotlib.rcParams['ytick.color'] = '0'\n",
    "\n",
    "matplotlib.rcParams['xtick.major.width'] = 1\n",
    "matplotlib.rcParams['ytick.major.width'] = 1\n",
    "matplotlib.rcParams['ytick.major.size'] = 5\n",
    "matplotlib.rcParams['xtick.major.size'] = 5\n",
    "matplotlib.rcParams['axes.spines.right'] = True\n",
    "matplotlib.rcParams['axes.spines.left'] = True\n",
    "matplotlib.rcParams['axes.spines.top'] = True\n",
    "matplotlib.rcParams['axes.spines.bottom'] = True\n",
    "\n",
    "matplotlib.rcParams['font.family'] = 'sans-serif'\n",
    "matplotlib.rcParams['font.sans-serif'] = 'helvetica'\n",
    "matplotlib.rcParams['font.weight']='normal'\n",
    "matplotlib.rcParams['axes.axisbelow'] = True"
   ]
  },
  {
   "cell_type": "markdown",
   "metadata": {},
   "source": [
    "**Creating a folder to store results. This should be adjusted based on how you want to store figures (if at all). Relevant variable is: `figs_dir`**"
   ]
  },
  {
   "cell_type": "code",
   "execution_count": 5,
   "metadata": {
    "collapsed": true
   },
   "outputs": [],
   "source": [
    "import datetime\n",
    "year = datetime.date.today().year\n",
    "month = datetime.date.today().month\n",
    "import os\n",
    "figs_dir = '../Results/Figures/{}_{:02}'.format(year, month)\n",
    "if not os.path.exists(figs_dir):\n",
    "    os.makedirs(figs_dir)"
   ]
  },
  {
   "cell_type": "markdown",
   "metadata": {},
   "source": [
    "**Finally, some directory variables and constants to apply throughout**"
   ]
  },
  {
   "cell_type": "code",
   "execution_count": 6,
   "metadata": {
    "collapsed": true
   },
   "outputs": [],
   "source": [
    "couplings_dir = '../Results/couplings/'\n",
    "contacts_dir = '../Data/psicov150_aln_pdb/pdb/'\n",
    "fastas_dir = '../Data/psicov150_aln_pdb/aln_fasta_max1k/'"
   ]
  },
  {
   "cell_type": "code",
   "execution_count": 7,
   "metadata": {
    "collapsed": true
   },
   "outputs": [],
   "source": [
    "length_based_modifier = 1.\n",
    "\n",
    "primary_distance_cutoff = 6\n",
    "\n",
    "contact_definition = 7.5 "
   ]
  },
  {
   "cell_type": "markdown",
   "metadata": {},
   "source": [
    "# Visualize some generalities"
   ]
  },
  {
   "cell_type": "markdown",
   "metadata": {},
   "source": [
    "**Distributions of coupling values**"
   ]
  },
  {
   "cell_type": "code",
   "execution_count": 8,
   "metadata": {},
   "outputs": [
    {
     "data": {
      "image/png": "[encoded data removed]",
      "text/plain": [
       "<matplotlib.figure.Figure at 0x11b9d5588>"
      ]
     },
     "metadata": {},
     "output_type": "display_data"
    }
   ],
   "source": [
    "prot_name = '1aoeA'\n",
    "\n",
    "# testy_df = process_couplings.process_ccmpredpy(couplings_dir+'{}.raw.uniform.mat'.format(prot_name))\n",
    "# testy_df = process_couplings.process_ccmpredpy(couplings_dir+'{}.ent.uniform.mat'.format(prot_name))\n",
    "testy_df = process_couplings.process_ccmpredpy(couplings_dir+'{}.apc.uniform.mat'.format(prot_name))\n",
    "\n",
    "# testy_df = process_couplings.process_ccmpredpy(couplings_dir+'{}.raw.GSC_meanScale.mat'.format(prot_name))\n",
    "# testy_df = process_couplings.process_ccmpredpy(couplings_dir+'{}.ent.GSC_meanScale.mat'.format(prot_name))\n",
    "# testy_df = process_couplings.process_ccmpredpy(couplings_dir+'{}.apc.GSC_meanScale.mat'.format(prot_name))\n",
    "\n",
    "\n",
    "\n",
    "fig, ax = plt.subplots()\n",
    "ax.hist(testy_df['couplings'], 80);"
   ]
  },
  {
   "cell_type": "markdown",
   "metadata": {},
   "source": [
    "**Load in a contact file and test PPV**"
   ]
  },
  {
   "cell_type": "code",
   "execution_count": 9,
   "metadata": {},
   "outputs": [
    {
     "name": "stdout",
     "output_type": "stream",
     "text": [
      "(0.4270833333333333, 192)\n"
     ]
    }
   ],
   "source": [
    "df_contacts = pd.read_csv(contacts_dir+'{}_SCcenter_contacts.csv'.format(prot_name), index_col=0)\n",
    "df_contacts, df_contacts_stack = process_couplings.process_contacts_df(df_contacts)\n",
    "seq = list(SeqIO.parse(fastas_dir+'{}.fasta'.format(prot_name), 'fasta'))[0]\n",
    "seq = str(seq.seq)\n",
    "df_merged = process_couplings.merge_contacts_couplings(df_contacts_stack, testy_df, seq)\n",
    "df_merged = process_couplings.remove_close(df_merged, primary_distance_cutoff)\n",
    "\n",
    "print(process_couplings.ppv_from_df(df_merged, int(len(seq)*length_based_modifier), length_cutoff=contact_definition))"
   ]
  },
  {
   "cell_type": "markdown",
   "metadata": {},
   "source": [
    "**And visualize the precision-recall curve**"
   ]
  },
  {
   "cell_type": "code",
   "execution_count": 11,
   "metadata": {},
   "outputs": [
    {
     "name": "stdout",
     "output_type": "stream",
     "text": [
      "Average precision: 0.21896121007531077\n"
     ]
    },
    {
     "data": {
      "image/png": "[encoded data removed]",
      "text/plain": [
       "<matplotlib.figure.Figure at 0x11c3b2828>"
      ]
     },
     "metadata": {},
     "output_type": "display_data"
    }
   ],
   "source": [
    "df_merged['contact'] = df_merged['distance']<=contact_definition\n",
    "aupr = sklearn.metrics.average_precision_score(df_merged['contact'], df_merged['couplings'])\n",
    "precision, recall, trash = sklearn.metrics.precision_recall_curve(df_merged['contact'], df_merged['couplings'])\n",
    "\n",
    "fig, ax = plt.subplots()\n",
    "ax.plot(recall, precision)\n",
    "print('Average precision:', aupr)"
   ]
  },
  {
   "cell_type": "code",
   "execution_count": null,
   "metadata": {},
   "outputs": [],
   "source": []
  },
  {
   "cell_type": "markdown",
   "metadata": {
    "collapsed": true
   },
   "source": [
    "# Systematic-ish\n",
    "\n",
    "**If run on the entire results set this will take a while and eat up a lot of memory. Can be modified to only read in certain types or proteins if necessary but currently this will take it all in**"
   ]
  },
  {
   "cell_type": "code",
   "execution_count": 12,
   "metadata": {},
   "outputs": [],
   "source": [
    "results_dicty_ppv = {}\n",
    "results_dicty_aupr = {}\n",
    "\n",
    "types_to_test = ['raw', 'apc', 'ent']\n",
    "\n",
    "for type_to_test in types_to_test:\n",
    "    for infile in sorted(glob.glob(couplings_dir+'*.mat'))[:]:\n",
    "        prot_name = infile.split('/')[-1].split('.')[0]\n",
    "        params = '.'.join(infile.split('/')[-1].split('.')[1:-1])\n",
    "        if params[:3] != type_to_test:\n",
    "            continue\n",
    "        #Read in the couplings for the protein of interest\n",
    "        testy_df = process_couplings.process_ccmpredpy(infile)\n",
    "        #Read in the contacts\n",
    "        df_contacts = pd.read_csv(contacts_dir+'{}_SCcenter_contacts.csv'.format(prot_name), index_col=0)\n",
    "        df_contacts, df_contacts_stack = process_couplings.process_contacts_df(df_contacts)\n",
    "        #Read in the fasta sequence\n",
    "        seq = list(SeqIO.parse(fastas_dir+'{}.fasta'.format(prot_name), 'fasta'))[0]\n",
    "        seq = str(seq.seq)\n",
    "        #Merge everyone together\n",
    "        df_merged = process_couplings.merge_contacts_couplings(df_contacts_stack, testy_df, seq)\n",
    "        #Remove pairs that are close in primary distance space\n",
    "        df_merged = process_couplings.remove_close(df_merged, primary_distance_cutoff)\n",
    "        #Calculate the PPV and add to a results dictionary\n",
    "        ppv_val, ns = process_couplings.ppv_from_df(df_merged, int(len(seq)*length_based_modifier),\\\n",
    "                                                    length_cutoff=contact_definition)\n",
    "        try:\n",
    "            results_dicty_ppv[params].append(ppv_val)\n",
    "        except:\n",
    "            results_dicty_ppv[params] = [ppv_val]\n",
    "        #########\n",
    "        #Further process the merged dataframe to include a binary variable for contacts\n",
    "        df_merged['contact'] = df_merged['distance']<contact_definition\n",
    "        #Calculate the area under the curve and add to a results dictionary\n",
    "        aupr = sklearn.metrics.average_precision_score(df_merged['contact'], df_merged['couplings'])\n",
    "        try:\n",
    "            results_dicty_aupr[params].append(aupr)\n",
    "        except:\n",
    "            results_dicty_aupr[params] = [aupr]"
   ]
  },
  {
   "cell_type": "markdown",
   "metadata": {},
   "source": [
    "**See what method/s were best!**"
   ]
  },
  {
   "cell_type": "code",
   "execution_count": null,
   "metadata": {},
   "outputs": [],
   "source": [
    "best_results = []\n",
    "for key, val in results_dicty_ppv.items():\n",
    "#     if key[:3] == 'raw':\n",
    "        best_results.append((key, np.median(val)))\n",
    "best_results = sorted(best_results, key=lambda x: x[1], reverse=True)\n",
    "best_results"
   ]
  },
  {
   "cell_type": "markdown",
   "metadata": {},
   "source": [
    "# Visualizing \n",
    "\n",
    "**Setting some variables here that can be toggled to analyze a different set of results**"
   ]
  },
  {
   "cell_type": "code",
   "execution_count": 13,
   "metadata": {
    "collapsed": true
   },
   "outputs": [],
   "source": [
    "coup_type = 'apc'\n",
    "#\n",
    "#\n",
    "#\n",
    "#\n",
    "results_dicty = results_dicty_ppv\n",
    "metric = 'PPV'\n",
    "#\n",
    "# results_dicty = results_dicty_aupr\n",
    "# metric = 'AUPR'"
   ]
  },
  {
   "cell_type": "markdown",
   "metadata": {},
   "source": [
    "** Boxplot with means **\n",
    "\n",
    "Not the cleanest code, but gets the job done for a pretty-ish plot"
   ]
  },
  {
   "cell_type": "code",
   "execution_count": 14,
   "metadata": {},
   "outputs": [
    {
     "data": {
      "image/png": "[encoded data removed]",
      "text/plain": [
       "<matplotlib.figure.Figure at 0x11c3d22b0>"
      ]
     },
     "metadata": {},
     "output_type": "display_data"
    }
   ],
   "source": [
    "coup_type = 'apc'\n",
    "\n",
    "#Getting in all the data\n",
    "data = [results_dicty['{}.uniform'.format(coup_type)]]+\\\n",
    "[results_dicty['{}.simple_0.{}'.format(coup_type, i)] for i in range(1,10)]+\\\n",
    "[results_dicty['{}.HH_meanScale'.format(coup_type)]]+\\\n",
    "[results_dicty['{}.GSC_meanScale'.format(coup_type)]]+\\\n",
    "[results_dicty['{}.ACL_meanScale'.format(coup_type)]]+\\\n",
    "[results_dicty['{}.HH_maxScale'.format(coup_type)]]+\\\n",
    "[results_dicty['{}.GSC_maxScale'.format(coup_type)]]+\\\n",
    "[results_dicty['{}.ACL_maxScale'.format(coup_type)]]\n",
    "\n",
    "#My x-labels get a bit complicated because of the nature of the plot\n",
    "labels = ['Uniform']+[str(i/10) for i in range(1, 10, 2)]+['HH', 'GSC', 'ACL']+['HH', 'GSC', 'ACL']\n",
    "xvals= [-0.1]+[i/10 for i in range(2,11)]+[i/10 for i in range(12, 18, 2)]+[i/10 for i in range(18, 24, 2)]\n",
    "\n",
    "\n",
    "fig, ax = plt.subplots(figsize=(10,4))\n",
    "bplot = ax.boxplot(data, positions=xvals, widths=(0.07), patch_artist=True)\n",
    "for patch in bplot['boxes']:\n",
    "    patch.set_facecolor('white')\n",
    "#Drawing some lines to divide the plot up a bit\n",
    "ax.axvline(0.1, c='k')\n",
    "ax.axvline(1.1, c='k')\n",
    "ax.axvline(1.7, c='k')\n",
    "#Some work with the x-axis\n",
    "ax.set_xlim(-0.3, 2.3)\n",
    "ax.set_xticks([-0.1]+[0.2, 0.4, 0.6, 0.8, 1.0]+[1.2, 1.4, 1.6]+[1.8, 2.0, 2.2])\n",
    "ax.set_xticklabels(labels)\n",
    "\n",
    "#Now setting up to plot the means in a hideous manner\n",
    "data = [np.mean(results_dicty['{}.simple_0.{}'.format(coup_type, i)]) for i in range(1,10)]\n",
    "xvals= [i/10 for i in range(2,11)]\n",
    "ax.plot([-0.1], [np.mean(results_dicty['{}.uniform'.format(coup_type)])], marker='s', zorder=3, c='firebrick')\n",
    "ax.axhline(np.mean(results_dicty['{}.uniform'.format(coup_type)]), linestyle='--', c='firebrick', alpha=0.5, zorder=4)\n",
    "ax.plot(xvals, data, marker='s', zorder=3)\n",
    "ax.plot([1.2], [np.mean(results_dicty['{}.HH_meanScale'.format(coup_type)])], marker='s', zorder=3, c='steelblue')\n",
    "ax.plot([1.4], [np.mean(results_dicty['{}.GSC_meanScale'.format(coup_type)])], marker='s', zorder=3, c='steelblue')\n",
    "ax.plot([1.6], [np.mean(results_dicty['{}.ACL_meanScale'.format(coup_type)])], marker='s', zorder=3, c='steelblue')\n",
    "ax.plot([1.8], [np.mean(results_dicty['{}.HH_maxScale'.format(coup_type)])], marker='s', zorder=3, c='steelblue')\n",
    "ax.plot([2.0], [np.mean(results_dicty['{}.GSC_maxScale'.format(coup_type)])], marker='s', zorder=3, c='steelblue')\n",
    "ax.plot([2.2], [np.mean(results_dicty['{}.ACL_maxScale'.format(coup_type)])], marker='s', zorder=3, c='steelblue')\n",
    "\n",
    "ax.set_ylabel(metric)\n",
    "###This had to be done because of some annoying quirk with Affinity Design which I used to layout the final figures\n",
    "ax.set_xlabel('Threshold ($\\lambda$)',\\\n",
    "              horizontalalignment='left', x=0.25)\n",
    "ax.text(0.575, -0.135, 'Mean scale        Max scale', transform=ax.transAxes, fontsize=18,\n",
    "        verticalalignment='top')\n",
    "ax.set_ylim(0, 0.85)\n",
    "ax.grid(False)\n",
    "# plt.savefig('{}/{}_summary.pdf'.format(figs_dir, coup_type), bbox_inches='tight')"
   ]
  },
  {
   "cell_type": "markdown",
   "metadata": {},
   "source": [
    "**Check statistics on any comparison using the wilcoxon signed-rank test (a paired, non-parametric test)**"
   ]
  },
  {
   "cell_type": "code",
   "execution_count": 50,
   "metadata": {},
   "outputs": [
    {
     "name": "stdout",
     "output_type": "stream",
     "text": [
      "apc.uniform 0.40136604568848616 0.3983402489626556\n",
      "apc.simple_0.9 0.4102995783450379 0.40425531914893614\n",
      "Significance: WilcoxonResult(statistic=1322.5, pvalue=1.94955461495613e-08)\n"
     ]
    }
   ],
   "source": [
    "# compare_a = 'raw.uniform'\n",
    "compare_a = 'apc.uniform'\n",
    "# compare_a = 'raw.uniform'\n",
    "# compare_b = 'apc.GSC_meanScale'\n",
    "# compare_a = 'apc.uniform'\n",
    "compare_b = 'apc.simple_0.9'\n",
    "# compare_b = 'apc.simpleish_0.8'\n",
    "# compare_b = 'apc.simple_0.7'\n",
    "# compare_b = 'apc.GSC_meanScale.RelTime'\n",
    "# compare_b = 'apc.HH_meanScale'\n",
    "\n",
    "\n",
    "print(compare_a, np.mean(results_dicty[compare_a]), np.median(results_dicty[compare_a]))\n",
    "print(compare_b, np.mean(results_dicty[compare_b]), np.median(results_dicty[compare_b]))\n",
    "print('Significance:', stats.wilcoxon(results_dicty[compare_a], results_dicty[compare_b]))"
   ]
  },
  {
   "cell_type": "code",
   "execution_count": 51,
   "metadata": {},
   "outputs": [
    {
     "name": "stdout",
     "output_type": "stream",
     "text": [
      "1.0116279069767442\n"
     ]
    }
   ],
   "source": [
    "#For the order of magnitude changes\n",
    "print(np.median(np.array(results_dicty[compare_b])/np.array(results_dicty[compare_a])))"
   ]
  },
  {
   "cell_type": "markdown",
   "metadata": {},
   "source": [
    "**Comparing modified identity-based method with the original identity-based method**"
   ]
  },
  {
   "cell_type": "code",
   "execution_count": 28,
   "metadata": {},
   "outputs": [
    {
     "name": "stdout",
     "output_type": "stream",
     "text": [
      "9 6\n"
     ]
    },
    {
     "data": {
      "image/png": "[encoded data removed]",
      "text/plain": [
       "<matplotlib.figure.Figure at 0x11d1e1ac8>"
      ]
     },
     "metadata": {},
     "output_type": "display_data"
    }
   ],
   "source": [
    "coup_type = 'raw'\n",
    "labels = ['Uniform']+[str(i/10) for i in range(1, 10, 2)]\n",
    "print(len(data), len(labels))\n",
    "xvals= [-0.1]+[i/10 for i in range(2,11)]\n",
    "\n",
    "prop_cycle = plt.rcParams['axes.prop_cycle']\n",
    "colors = prop_cycle.by_key()['color']\n",
    "\n",
    "fig, ax = plt.subplots(figsize=(8,3))\n",
    "ax.set_xlim(-0.3, 1.1)\n",
    "ax.set_xticks([-0.1]+[0.2, 0.4, 0.6, 0.8, 1.0])\n",
    "ax.set_xticklabels(labels)\n",
    "ax.axvline(0.1, c='k')\n",
    "ax.plot([-0.1], [np.mean(results_dicty['{}.uniform'.format(coup_type)])], marker='s', zorder=3, c='firebrick', markersize=8)\n",
    "ax.axhline(np.mean(results_dicty['{}.uniform'.format(coup_type)]), linestyle='--', c='firebrick', alpha=0.5, zorder=4)\n",
    "data = [np.mean(results_dicty['{}.simpleish_0.{}'.format(coup_type, i)]) for i in range(1,10)]\n",
    "xvals= [i/10 for i in range(2,11)]\n",
    "ax.plot(xvals, data, marker='s', zorder=4, label='Similarity-adjusted', markersize=8, c=colors[1])\n",
    "\n",
    "data = [np.mean(results_dicty['{}.simple_0.{}'.format(coup_type, i)]) for i in range(1,10)]\n",
    "xvals= [i/10 for i in range(2,11)]\n",
    "ax.plot(xvals, data, marker='s', zorder=4, label='Original', markersize=8, c=colors[0])\n",
    "\n",
    "ax.set_ylabel(metric)\n",
    "ax.set_xlabel('Threshold ($\\lambda$)',\\\n",
    "              horizontalalignment='left', x=0.525)\n",
    "ax.set_ylim(0.1, 0.45)\n",
    "legend = ax.legend(loc=1, fontsize=14, framealpha=1.0)\n",
    "plt.savefig('{}/{}_identity_compare.pdf'.format(figs_dir, coup_type), bbox_inches='tight')\n",
    "# ax.grid(False)"
   ]
  },
  {
   "cell_type": "markdown",
   "metadata": {},
   "source": [
    "**Comparing weights computed from regular trees vs RelTime trees**"
   ]
  },
  {
   "cell_type": "code",
   "execution_count": null,
   "metadata": {},
   "outputs": [],
   "source": [
    "coup_type = 'apc'\n",
    "x_vals = [-0.1, 0.2, 0.3, 0.5, 0.6, 0.8, 0.9, 1.1, 1.2]\n",
    "\n",
    "labels = ['Uniform'] +['Raw tree', 'RelTime tree']*4\n",
    "\n",
    "colors = ['firebrick'] + ['steelblue', 'darkorange']*4\n",
    "y_vals = [np.mean(results_dicty['{}.uniform'.format(coup_type)]),\\\n",
    "         np.mean(results_dicty['{}.GSC_meanScale'.format(coup_type)]),\\\n",
    "         np.mean(results_dicty['{}.GSC_meanScale.RelTime'.format(coup_type)]),\\\n",
    "         np.mean(results_dicty['{}.ACL_meanScale'.format(coup_type)]),\\\n",
    "         np.mean(results_dicty['{}.ACL_meanScale.RelTime'.format(coup_type)]),\\\n",
    "         np.mean(results_dicty['{}.GSC_maxScale'.format(coup_type)]),\\\n",
    "         np.mean(results_dicty['{}.GSC_maxScale.RelTime'.format(coup_type)]),\\\n",
    "         np.mean(results_dicty['{}.ACL_maxScale'.format(coup_type)]),\\\n",
    "         np.mean(results_dicty['{}.ACL_maxScale.RelTime'.format(coup_type)])]\n",
    "y_errs = [np.std(results_dicty['{}.uniform'.format(coup_type)]),\\\n",
    "         np.std(results_dicty['{}.GSC_meanScale'.format(coup_type)]),\\\n",
    "         np.std(results_dicty['{}.GSC_meanScale.RelTime'.format(coup_type)]),\\\n",
    "         np.std(results_dicty['{}.ACL_meanScale'.format(coup_type)]),\\\n",
    "         np.std(results_dicty['{}.ACL_meanScale.RelTime'.format(coup_type)]),\\\n",
    "         np.std(results_dicty['{}.GSC_maxScale'.format(coup_type)]),\\\n",
    "         np.std(results_dicty['{}.GSC_maxScale.RelTime'.format(coup_type)]),\\\n",
    "         np.std(results_dicty['{}.ACL_maxScale'.format(coup_type)]),\\\n",
    "         np.std(results_dicty['{}.ACL_maxScale.RelTime'.format(coup_type)])]\n",
    "\n",
    "fig, ax = plt.subplots(figsize=(6,3))\n",
    "ax.set_xlim(-0.3, 1.35)\n",
    "ax.errorbar(x_vals[:1], y_vals[:1], yerr=y_errs[:1], marker='s', markersize=10,\\\n",
    "            linestyle='', c='firebrick')\n",
    "ax.errorbar(x_vals[1::2], y_vals[1::2], yerr=y_errs[1::2], marker='s', markersize=10,\\\n",
    "            linestyle='', c='steelblue', zorder=4)\n",
    "ax.errorbar(x_vals[2::2], y_vals[2::2], yerr=y_errs[2::2], marker='s', markersize=10,\\\n",
    "            linestyle='', c='darkorange', zorder=4)\n",
    "\n",
    "ax.plot(x_vals[1::2], y_vals[1::2], marker='s', markersize=10,\\\n",
    "            linestyle='', c='steelblue', label='Raw tree', zorder=4)\n",
    "ax.plot(x_vals[2::2], y_vals[2::2], marker='s', markersize=10,\\\n",
    "            linestyle='', c='darkorange', label='RelTime tree', zorder=4)\n",
    "\n",
    "ax.axvline(0.1, c='k')\n",
    "ax.axhline(np.mean(results_dicty['{}.uniform'.format(coup_type)]), linestyle='--', c='firebrick', alpha=0.5, zorder=4)\n",
    "\n",
    "leg = ax.legend(loc='center left', bbox_to_anchor=(0.22, 1.1), ncol=2, fontsize=14)\n",
    "ax.set_xticks([-0.1]+[0.25, 0.55, 0.85, 1.15])\n",
    "ax.set_xticklabels(['Uniform', 'GSC', 'ACL', 'GSC', 'ACL'])\n",
    "ax.set_xlabel('Mean scale       Max scale',\\\n",
    "              horizontalalignment='left', x=0.28)\n",
    "ax.set_ylim(0, 0.58)\n",
    "ax.set_ylabel('PPV')\n",
    "plt.savefig('{}/{}_RelTime.pdf'.format(figs_dir, coup_type), bbox_inches='tight')\n",
    "# ax.grid(False)"
   ]
  },
  {
   "cell_type": "code",
   "execution_count": null,
   "metadata": {
    "collapsed": true
   },
   "outputs": [],
   "source": []
  },
  {
   "cell_type": "code",
   "execution_count": null,
   "metadata": {
    "collapsed": true
   },
   "outputs": [],
   "source": []
  },
  {
   "cell_type": "code",
   "execution_count": null,
   "metadata": {
    "collapsed": true
   },
   "outputs": [],
   "source": []
  },
  {
   "cell_type": "code",
   "execution_count": null,
   "metadata": {
    "collapsed": true
   },
   "outputs": [],
   "source": []
  },
  {
   "cell_type": "code",
   "execution_count": null,
   "metadata": {
    "collapsed": true
   },
   "outputs": [],
   "source": []
  },
  {
   "cell_type": "code",
   "execution_count": null,
   "metadata": {
    "collapsed": true
   },
   "outputs": [],
   "source": []
  },
  {
   "cell_type": "code",
   "execution_count": null,
   "metadata": {
    "collapsed": true
   },
   "outputs": [],
   "source": []
  },
  {
   "cell_type": "code",
   "execution_count": null,
   "metadata": {
    "collapsed": true
   },
   "outputs": [],
   "source": []
  },
  {
   "cell_type": "code",
   "execution_count": null,
   "metadata": {
    "collapsed": true
   },
   "outputs": [],
   "source": []
  },
  {
   "cell_type": "code",
   "execution_count": null,
   "metadata": {
    "collapsed": true
   },
   "outputs": [],
   "source": []
  },
  {
   "cell_type": "markdown",
   "metadata": {},
   "source": [
    "# DEPRECATED"
   ]
  },
  {
   "cell_type": "markdown",
   "metadata": {},
   "source": [
    "**Below code was not used for manuscript but left here for posterity.**\n",
    "\n",
    "**Was attempting to code/test my own APC and entropy-corrections from the raw coupling data to make sure that I understood the way that the methods worked but in the end just used the files outputted by CCMPredPy**"
   ]
  },
  {
   "cell_type": "code",
   "execution_count": null,
   "metadata": {},
   "outputs": [],
   "source": [
    "prot_name = '1aoeA'\n",
    "testy_df = process_couplings.process_ccmpredpy('../Results/couplings/{}.raw.GSC_meanScale.mat'.format(prot_name))\n",
    "apc_df = process_couplings.process_ccmpredpy('../Results/couplings/{}.apc.GSC_meanScale.mat'.format(prot_name))"
   ]
  },
  {
   "cell_type": "code",
   "execution_count": null,
   "metadata": {},
   "outputs": [],
   "source": [
    "testy_df.head()"
   ]
  },
  {
   "cell_type": "code",
   "execution_count": null,
   "metadata": {},
   "outputs": [],
   "source": [
    "temp_row = {}\n",
    "for i in list(set(list(testy_df['aa1_loc'])+list(testy_df['aa2_loc']))):\n",
    "    temp_df = testy_df[(testy_df['aa1_loc'] == i) | (testy_df['aa2_loc'] == i)]\n",
    "    temp_row[i] = np.mean(temp_df['couplings'])\n",
    "testy_df['apc'] = np.nan\n",
    "cmean = np.mean(testy_df['couplings'])\n",
    "for index in testy_df.index:\n",
    "    coupling = testy_df.loc[index]['couplings']\n",
    "    ci = temp_row[testy_df.loc[index]['aa1_loc']]\n",
    "    cj = temp_row[testy_df.loc[index]['aa2_loc']]\n",
    "    testy_df.set_value(index, 'apc',coupling - ((ci*cj)/cmean))"
   ]
  },
  {
   "cell_type": "code",
   "execution_count": null,
   "metadata": {},
   "outputs": [],
   "source": [
    "fig, ax = plt.subplots()\n",
    "ax.plot(testy_df['couplings'], testy_df['apc'], 'bo')\n",
    "fig, ax = plt.subplots()\n",
    "ax.plot(apc_df['couplings'], testy_df['apc'], 'bo')"
   ]
  },
  {
   "cell_type": "code",
   "execution_count": null,
   "metadata": {},
   "outputs": [],
   "source": [
    "stats.linregress(apc_df['couplings'], testy_df['apc'])"
   ]
  },
  {
   "cell_type": "markdown",
   "metadata": {},
   "source": [
    "**Ents**"
   ]
  },
  {
   "cell_type": "code",
   "execution_count": null,
   "metadata": {},
   "outputs": [],
   "source": [
    "from Bio.Alphabet.IUPAC import IUPACProtein\n",
    "IUPACProtein.letters"
   ]
  },
  {
   "cell_type": "code",
   "execution_count": null,
   "metadata": {
    "collapsed": true
   },
   "outputs": [],
   "source": [
    "def sequence_entropy_from_msa(msa_file, weights_file=False, base=2, skip_gaps=False):\n",
    "    '''\n",
    "    This should calculate the (un)weighted sequence entropy directly from a fasta file.\n",
    "    If not provided, all weights are even. If provided, weights will be read directly\n",
    "    from the accompanying weights_file.\n",
    "    \n",
    "    '''\n",
    "    \n",
    "    alignment = SeqIO.parse(msa_file, format='fasta')\n",
    "    aln_mat = np.array([list(i.seq) for i in alignment])\n",
    "    \n",
    "    #####################\n",
    "    #####################\n",
    "    for i in IUPACProtein.letters:\n",
    "        aln_mat = np.append(aln_mat, [list(i*aln_mat.shape[1])], axis=0)\n",
    "    #####################\n",
    "    #####################\n",
    "\n",
    "    aln_mat_T = aln_mat.T\n",
    "    \n",
    "    if weights_file:\n",
    "        weights = np.genfromtxt(weights_file)\n",
    "    else:\n",
    "        weights = np.ones(aln_mat_T[0].shape)\n",
    "    \n",
    "    initial_shape = aln_mat_T.shape\n",
    "    flat_seqs = aln_mat_T.flatten()\n",
    "    order, flat_array = np.unique(flat_seqs, return_inverse=True)\n",
    "    if '-' in order:\n",
    "        assert order[0] == '-'\n",
    "    else:\n",
    "        if skip_gaps:\n",
    "            skip_gaps = False\n",
    "            print('No gapped characters found in alignment, skip_gaps flag is meaningless')\n",
    "\n",
    "    replaced_seqs_T = flat_array.reshape(initial_shape)\n",
    "    \n",
    "    ents_all = []\n",
    "    for aln_position in replaced_seqs_T:\n",
    "        if skip_gaps:\n",
    "            ents_all.append(stats.entropy(np.bincount(aln_position,\\\n",
    "                                    weights=weights, minlength=21)[1:], base=base))\n",
    "        else:\n",
    "            ents_all.append(stats.entropy(np.bincount(aln_position,\\\n",
    "                                    weights=weights, minlength=21), base=base))   \n",
    "    return ents_all"
   ]
  },
  {
   "cell_type": "code",
   "execution_count": null,
   "metadata": {},
   "outputs": [],
   "source": [
    "prot_name = '1aoeA'\n",
    "\n",
    "testy_df = process_couplings.process_ccmpredpy('../Results/couplings/{}.raw.uniform.mat'.format(prot_name))\n",
    "ent_df = process_couplings.process_ccmpredpy('../Results/couplings/{}.ent.uniform.mat'.format(prot_name))\n",
    "\n",
    "msa_file = '../../Phylogenetic_couplings/Data/'\\\n",
    "                'psicov150_aln_pdb/aln_fasta_max1k/{}.fasta'.format(prot_name)\n",
    "emp_entropies = sequence_entropy_from_msa(msa_file, skip_gaps=False, base=2)\n",
    "\n",
    "# msa_file = '../../Phylogenetic_couplings/Data/'\\\n",
    "#                 'psicov150_aln_pdb/aln_fasta_max1k/{}.fasta'.format(prot_name)\n",
    "# weights_file = '../../DCA_weighting/Data/{}.HH.test'.format(prot_name)\n",
    "# emp_entropies = sequence_entropy_from_msa(msa_file,\\\n",
    "#                                           weights_file=weights_file, skip_gaps=False, base=2)\n",
    "\n",
    "\n",
    "\n",
    "\n",
    "testy_df['score_h'] = np.nan\n",
    "testy_df['first_h'] = np.nan\n",
    "testy_df['second_h'] = np.nan\n",
    "\n",
    "for index in testy_df.index:\n",
    "    fr = emp_entropies[int(testy_df.loc[index]['aa1_loc'])-1]\n",
    "    sr = emp_entropies[int(testy_df.loc[index]['aa2_loc'])-1]\n",
    "    testy_df.set_value(index, 'score_h', (fr**(1/2))*(sr**(1/2)))\n",
    "    testy_df.set_value(index, 'first_h', fr)\n",
    "    testy_df.set_value(index, 'second_h', sr)\n",
    "\n",
    "# ###########\n",
    "alpha_1 = np.sum(testy_df['couplings']*testy_df['score_h'])\n",
    "alpha_2 = np.sum(testy_df['first_h'] * testy_df['second_h'])\n",
    "alpha = alpha_1/alpha_2\n",
    "testy_df['couplings_ent'] = testy_df['couplings'] - (alpha * testy_df['score_h'])\n",
    "# ###########\n",
    "###########\n",
    "\n"
   ]
  },
  {
   "cell_type": "code",
   "execution_count": null,
   "metadata": {},
   "outputs": [],
   "source": [
    "fig, ax = plt.subplots()\n",
    "ax.plot(testy_df['couplings_ent'], ent_df['couplings'], 'bo')\n",
    "\n",
    "stats.linregress(testy_df['couplings_ent'], ent_df['couplings'])"
   ]
  },
  {
   "cell_type": "code",
   "execution_count": null,
   "metadata": {
    "collapsed": true
   },
   "outputs": [],
   "source": []
  },
  {
   "cell_type": "code",
   "execution_count": null,
   "metadata": {},
   "outputs": [],
   "source": [
    "df_contacts = pd.read_csv('../../Phylogenetic_couplings/Data/'\n",
    "                          'psicov150_aln_pdb/pdb/{}_CB_contacts.csv'.format(prot_name), index_col=0)\n",
    "df_contacts, df_contacts_stack = process_couplings.process_contacts_df(df_contacts, 1)\n",
    "seq = list(SeqIO.parse('../../Phylogenetic_couplings/Data/'\n",
    "                       'psicov150_aln_pdb/aln_fasta/{}.fasta'.format(prot_name), 'fasta'))[0]\n",
    "seq = str(seq.seq)\n",
    "df_merged = process_couplings.merge_contacts_couplings(df_contacts_stack, ent_df, seq)\n",
    "df_merged['contact'] = df_merged['distance']<7.5\n",
    "aupr = sklearn.metrics.average_precision_score(df_merged['contact'], df_merged['couplings'])\n",
    "print(aupr)"
   ]
  },
  {
   "cell_type": "code",
   "execution_count": null,
   "metadata": {},
   "outputs": [],
   "source": [
    "hmmm = pd.concat([df_merged, testy_df['couplings_ent']],\\\n",
    "                      axis=1, join_axes=[df_merged.index])\n",
    "hmmm.sort_values('couplings_ent', ascending=False, inplace=True)"
   ]
  },
  {
   "cell_type": "code",
   "execution_count": null,
   "metadata": {},
   "outputs": [],
   "source": [
    "aupr = sklearn.metrics.average_precision_score(hmmm['contact'], hmmm['couplings_ent'])\n",
    "print(aupr)"
   ]
  },
  {
   "cell_type": "code",
   "execution_count": null,
   "metadata": {
    "collapsed": true
   },
   "outputs": [],
   "source": []
  }
 ],
 "metadata": {
  "kernelspec": {
   "display_name": "Python 3",
   "language": "python",
   "name": "python3"
  },
  "language_info": {
   "codemirror_mode": {
    "name": "ipython",
    "version": 3
   },
   "file_extension": ".py",
   "mimetype": "text/x-python",
   "name": "python",
   "nbconvert_exporter": "python",
   "pygments_lexer": "ipython3",
   "version": "3.7.0"
  },
  "toc": {
   "colors": {
    "hover_highlight": "#DAA520",
    "navigate_num": "#000000",
    "navigate_text": "#333333",
    "running_highlight": "#FF0000",
    "selected_highlight": "#FFD700",
    "sidebar_border": "#EEEEEE",
    "wrapper_background": "#FFFFFF"
   },
   "moveMenuLeft": true,
   "nav_menu": {
    "height": "12px",
    "width": "252px"
   },
   "navigate_menu": true,
   "number_sections": true,
   "sideBar": true,
   "threshold": 4,
   "toc_cell": false,
   "toc_section_display": "block",
   "toc_window_display": false,
   "widenNotebook": false
  }
 },
 "nbformat": 4,
 "nbformat_minor": 2
}
