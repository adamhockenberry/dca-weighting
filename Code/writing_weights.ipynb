{
 "cells": [
  {
   "cell_type": "code",
   "execution_count": 1,
   "metadata": {
    "collapsed": false
   },
   "outputs": [],
   "source": [
    "%matplotlib inline\n",
    "%load_ext autoreload\n",
    "%autoreload 2"
   ]
  },
  {
   "cell_type": "markdown",
   "metadata": {},
   "source": [
    "# Overview\n",
    "\n",
    "**The purpose of this file is to compile all of the different weight files that I wanted to test for this manuscript. The file covers a few different weighting schemes that were developed and ran in succession as the project evolved but it should be clear which cells perform what methods.**\n",
    "\n",
    "**The only thing to note is that not all weighting methods / perturbations appear in the manuscript. In particular, for each weighting method I adapted uniform weight controls as a pair such that each uneven weighting scheme (with a different eff no of sequences) had a paired uniform weight file that added up to the same eff no of sequences. At least for the moment, all of this code remains but lead nowhere**"
   ]
  },
  {
   "cell_type": "markdown",
   "metadata": {},
   "source": [
    "# Imports"
   ]
  },
  {
   "cell_type": "code",
   "execution_count": 2,
   "metadata": {
    "collapsed": false
   },
   "outputs": [],
   "source": [
    "import numpy as np\n",
    "import glob\n",
    "from matplotlib import pyplot as plt\n",
    "import json"
   ]
  },
  {
   "cell_type": "code",
   "execution_count": 3,
   "metadata": {
    "collapsed": true
   },
   "outputs": [],
   "source": [
    "###Including my custom file\n",
    "import supporting_functions"
   ]
  },
  {
   "cell_type": "code",
   "execution_count": null,
   "metadata": {
    "collapsed": true
   },
   "outputs": [],
   "source": [
    "###And what may be a non-standard libraries that you'll have to install\n",
    "from Bio import SeqIO, Phylo\n",
    "import Levenshtein "
   ]
  },
  {
   "cell_type": "markdown",
   "metadata": {},
   "source": [
    "# Writing all weights\n",
    "\n",
    "This first section is going to write a LOT of weight files!\n",
    "\n",
    "You should have the below directory structure set up and ready to go.\n",
    "\n",
    "The next section will specifically write GSC, ACL, and HH weights. For each there will be a mean- and max-scaled file as well as a set of uniform weights corresponding to the max-file. Additionally I'm writing a plain old uniform file to start. \n",
    "\n",
    "So for each protein in the fasta_directory these cells directly below will write 10 separate weight files"
   ]
  },
  {
   "cell_type": "code",
   "execution_count": null,
   "metadata": {
    "collapsed": true
   },
   "outputs": [],
   "source": [
    "fasta_directory = '../Data/psicov150_aln_pdb/aln_fasta_max1k/'\n",
    "tree_directory = '../Data/psicov150_aln_pdb/aln_fasta_max1k_iqtree/'\n",
    "\n",
    "weight_output_dir = '../Data/weights/'"
   ]
  },
  {
   "cell_type": "code",
   "execution_count": null,
   "metadata": {
    "collapsed": false
   },
   "outputs": [],
   "source": [
    "for fasta_file in sorted(glob.glob(fasta_directory+'*.fasta'))[:]:\n",
    "    prot_name = fasta_file.split('/')[-1].split('.')[0]\n",
    "    #First read in sequence data\n",
    "    records = list(SeqIO.parse(fasta_file, 'fasta'))\n",
    "    #And the tree\n",
    "    tree_loc = tree_directory+'{}.fasta.treefile'.format(prot_name)\n",
    "    try:\n",
    "        tree = Phylo.read(tree_loc, rooted=False, format='newick')\n",
    "    except FileNotFoundError:\n",
    "        continue\n",
    "    #Root the tree with my mid-point algorithm\n",
    "    tree = supporting_functions.MP_root(tree)\n",
    "    \n",
    "    #First write basic uniform weights    \n",
    "    weight_val = 1.0\n",
    "    with open(weight_output_dir+'{}_uniform.weights'.format(prot_name),'w') as outfile:\n",
    "        for record in records:\n",
    "            outfile.write('{}\\n'.format(weight_val))\n",
    "    ##############################################################################\n",
    "    #Move on to GSC weights\n",
    "    ##############################################################################\n",
    "    print('####################GSC', prot_name, len(records), len(tree.get_terminals()))    \n",
    "    weights_dict =  weighting_methods.calc_GSC_weights(tree)\n",
    "    weights_dict_id = {}\n",
    "    for i,j in weights_dict.items():\n",
    "        weights_dict_id[i.name] = j\n",
    "    \n",
    "    #Mean scale these\n",
    "    mean_GSC = np.mean(list(weights_dict_id.values()))\n",
    "    keys, vals = zip(*list(weights_dict_id.items()))\n",
    "    vals = np.array(vals)/mean_GSC\n",
    "    new_dict = dict(zip(keys, vals))\n",
    "    \n",
    "    #And write to file\n",
    "    with open(weight_output_dir+'{}_GSC_{}.weights'.format(prot_name, 'meanScale'),'w') as outfile:\n",
    "        for record in records:\n",
    "            outfile.write('{}\\n'.format(new_dict[record.id]))\n",
    "    print(np.sum(list(new_dict.values())))   \n",
    "    \n",
    "    #Max scale them\n",
    "    max_GSC = np.max(list(weights_dict_id.values()))\n",
    "    keys, vals = zip(*list(weights_dict_id.items()))\n",
    "    vals = np.array(vals)/max_GSC\n",
    "    new_dict = dict(zip(keys, vals))\n",
    "    \n",
    "    #And write to file\n",
    "    with open(weight_output_dir+'{}_GSC_{}.weights'.format(prot_name, 'maxScale'),'w') as outfile:\n",
    "        for record in records:\n",
    "            outfile.write('{}\\n'.format(new_dict[record.id]))\n",
    "    print(np.sum(list(new_dict.values())))   \n",
    "    \n",
    "    ### Write corresponding uniform for max scale\n",
    "    weight_val = np.sum(list(new_dict.values()))/len(records)\n",
    "    with open(weight_output_dir+'{}_GSC_maxScale_uniform.weights'.format(prot_name),'w') as outfile:\n",
    "        for record in records:\n",
    "            outfile.write('{}\\n'.format(weight_val))\n",
    "    \n",
    "    ##############################################################################\n",
    "    #ACL weights (reload and re-root the tree)\n",
    "    ##############################################################################\n",
    "    try:\n",
    "        tree = Phylo.read(tree_loc, rooted=False, format='newick')\n",
    "    except FileNotFoundError:\n",
    "        continue\n",
    "    tree = supporting_functions.MP_root(tree)\n",
    "    print('####################ACL', prot_name, len(records), len(tree.get_terminals()))\n",
    "\n",
    "    #Get ACL weights\n",
    "    weights_dict, new_tree =  weighting_methods.calc_ACL_weights(tree)\n",
    "    weights_dict_id = {}\n",
    "    for i,j in weights_dict.items():\n",
    "        weights_dict_id[i.name] = j\n",
    "        \n",
    "    #Mean scale\n",
    "    mean_ACL = np.mean(list(weights_dict_id.values()))\n",
    "    keys, vals = zip(*list(weights_dict_id.items()))\n",
    "    vals = np.array(vals)/mean_ACL\n",
    "    new_dict = dict(zip(keys, vals))\n",
    "    \n",
    "    #And write\n",
    "    with open(weight_output_dir+'{}_ACL_{}.weights'.format(prot_name, 'meanScale'),'w') as outfile:\n",
    "        for record in records:\n",
    "            outfile.write('{}\\n'.format(new_dict[record.id]))\n",
    "    print(np.sum(list(new_dict.values())))\n",
    "    \n",
    "    #Max scale\n",
    "    max_ACL = np.max(list(weights_dict_id.values()))\n",
    "    keys, vals = zip(*list(weights_dict_id.items()))\n",
    "    vals = np.array(vals)/max_ACL\n",
    "    new_dict = dict(zip(keys, vals))\n",
    "    \n",
    "    #And write\n",
    "    with open(weight_output_dir+'{}_ACL_{}.weights'.format(prot_name, 'maxScale'),'w') as outfile:\n",
    "        for record in records:\n",
    "            outfile.write('{}\\n'.format(new_dict[record.id]))\n",
    "    print(np.sum(list(new_dict.values()))) \n",
    "    \n",
    "    ### Write corresponding uniform for max scale\n",
    "    weight_val = np.sum(list(new_dict.values()))/len(records)\n",
    "    with open(weight_output_dir+'{}_ACL_maxScale_uniform.weights'.format(prot_name),'w') as outfile:\n",
    "        for record in records:\n",
    "            outfile.write('{}\\n'.format(weight_val))\n",
    "            \n",
    "            \n",
    "    ##############################################################################\n",
    "    #HH weights\n",
    "    ##############################################################################\n",
    "    print('####################HH', prot_name, len(records), len(tree.get_terminals()))\n",
    "    weights_dict = weighting_methods.calc_HH_weights(records)\n",
    "    #Mean scale\n",
    "    weights_array = np.array(list(weights_dict.values()))    \n",
    "    mean_HH = np.mean(list(weights_dict.values()))\n",
    "    keys, vals = zip(*list(weights_dict.items()))\n",
    "    vals = np.array(vals)/mean_HH\n",
    "    new_dict = dict(zip(keys, vals))\n",
    "    #Write \n",
    "    with open(weight_output_dir+'{}_HH_{}.weights'.format(prot_name, 'meanScale'),'w') as outfile:\n",
    "        for record in records:\n",
    "            outfile.write('{}\\n'.format(new_dict[record.id]))\n",
    "    print(np.sum(list(new_dict.values())))\n",
    "    #Max scale\n",
    "    max_HH = np.max(list(weights_dict.values()))\n",
    "    keys, vals = zip(*list(weights_dict.items()))\n",
    "    vals = np.array(vals)/max_HH\n",
    "    new_dict = dict(zip(keys, vals))\n",
    "    #Write\n",
    "    with open(weight_output_dir+'{}_HH_{}.weights'.format(prot_name, 'maxScale'),'w') as outfile:\n",
    "        for record in records:\n",
    "            outfile.write('{}\\n'.format(new_dict[record.id]))\n",
    "    print(np.sum(list(new_dict.values())))\n",
    "    \n",
    "    #And finally write corresponding uniform for max scale\n",
    "    weight_val = np.sum(list(new_dict.values()))/len(records)\n",
    "    with open(weight_output_dir+'{}_HH_maxScale_uniform.weights'.format(prot_name),'w') as outfile:\n",
    "        for record in records:\n",
    "            outfile.write('{}\\n'.format(weight_val))"
   ]
  },
  {
   "cell_type": "markdown",
   "metadata": {},
   "source": [
    "**Print prot names to make a bash array**\n",
    "\n",
    "(just a little something I used in my scripting, not necessary)"
   ]
  },
  {
   "cell_type": "code",
   "execution_count": null,
   "metadata": {
    "collapsed": false
   },
   "outputs": [],
   "source": [
    "prot_names = []\n",
    "for fasta_file in sorted(glob.glob('../../Phylogenetic_couplings/Data/'\n",
    "                                   'psicov150_aln_pdb/aln_fasta_max1k/*.fasta'))[:]:\n",
    "    #Read in sequence data and tree\n",
    "    records = list(SeqIO.parse(fasta_file, 'fasta'))\n",
    "    prot_name = fasta_file.split('/')[-1].split('.')[0]\n",
    "    prot_names.append(prot_name)\n",
    "for i in prot_names:\n",
    "    print('\"{}\"'.format(i), end=\" \")"
   ]
  },
  {
   "cell_type": "code",
   "execution_count": null,
   "metadata": {
    "collapsed": true
   },
   "outputs": [],
   "source": []
  },
  {
   "cell_type": "markdown",
   "metadata": {},
   "source": [
    "# This section uses the RelTime algorithm\n",
    "\n",
    "Specifically to scale the trees and re-do calculations for GSC and ACL weights.\n",
    "\n",
    "Code functions basically the same as above, and writes 6 files for each protein: mean and max scaled GSC and ACL weights, and corresponding uniform weight controls for the two max files."
   ]
  },
  {
   "cell_type": "code",
   "execution_count": null,
   "metadata": {
    "collapsed": true
   },
   "outputs": [],
   "source": [
    "fasta_directory = '../Data/psicov150_aln_pdb/aln_fasta_max1k/'\n",
    "tree_directory = '../Data/psicov150_aln_pdb/aln_fasta_max1k_iqtree/'\n",
    "\n",
    "weight_output_dir = '../Data/weights/'"
   ]
  },
  {
   "cell_type": "code",
   "execution_count": null,
   "metadata": {
    "collapsed": false
   },
   "outputs": [],
   "source": [
    "for fasta_file in sorted(glob.glob(fasta_directory+'*.fasta'))[:]:\n",
    "    #Read in sequence data and tree\n",
    "    records = list(SeqIO.parse(fasta_file, 'fasta'))\n",
    "    prot_name = fasta_file.split('/')[-1].split('.')[0]\n",
    "    tree_loc = tree_directory+'{}.fasta.treefile'.format(prot_name)\n",
    "    try:\n",
    "        tree = Phylo.read(tree_loc, rooted=False, format='newick')\n",
    "    except FileNotFoundError:\n",
    "        continue  \n",
    "    tree = supporting_functions.MP_root(tree)\n",
    "    ##############################################\n",
    "    ###RelTime transformation\n",
    "    ##############################################\n",
    "    tree.root.branch_length = 0.0\n",
    "    tree = supporting_functions.rel_time_AJH(tree)\n",
    "    for node in tree.get_terminals() + tree.get_nonterminals():\n",
    "        if node == tree.root:\n",
    "            continue\n",
    "        node.branch_length = node.branch_length/node.rate\n",
    "    tree.root.branch_length = None\n",
    "\n",
    "\n",
    "    ##############################################################################\n",
    "    #GSC weights as above\n",
    "    ##############################################################################\n",
    "    print('####################GSC', prot_name, len(records), len(tree.get_terminals()))\n",
    "    weights_dict =  weighting_methods.calc_GSC_weights(tree)\n",
    "    weights_dict_id = {}\n",
    "    for i,j in weights_dict.items():\n",
    "        weights_dict_id[i.name] = j\n",
    "    \n",
    "    #Mean scale them\n",
    "    mean_GSC = np.mean(list(weights_dict_id.values()))\n",
    "    keys, vals = zip(*list(weights_dict_id.items()))\n",
    "    vals = np.array(vals)/mean_GSC\n",
    "    new_dict = dict(zip(keys, vals))\n",
    "    with open(weight_output_dir+'{}_GSC_{}.RelTime.weights'.format(prot_name, 'meanScale'),'w') as outfile:\n",
    "        for record in records:\n",
    "            outfile.write('{}\\n'.format(new_dict[record.id]))\n",
    "    print(np.sum(list(new_dict.values())))  \n",
    "    \n",
    "    #Max scale them\n",
    "    max_GSC = np.max(list(weights_dict_id.values()))\n",
    "    keys, vals = zip(*list(weights_dict_id.items()))\n",
    "    vals = np.array(vals)/max_GSC\n",
    "    new_dict = dict(zip(keys, vals))\n",
    "    with open(weight_output_dir+'{}_GSC_{}.RelTime.weights'.format(prot_name, 'maxScale'),'w') as outfile:\n",
    "        for record in records:\n",
    "            outfile.write('{}\\n'.format(new_dict[record.id]))\n",
    "    print(np.sum(list(new_dict.values())))   \n",
    "    \n",
    "    ### Write corresponding uniform for max scale\n",
    "    weight_val = np.sum(list(new_dict.values()))/len(records)\n",
    "    with open(weight_output_dir+'{}_GSC_maxScale_uniform.RelTime.weights'.format(prot_name),'w') as outfile:\n",
    "        for record in records:\n",
    "            outfile.write('{}\\n'.format(weight_val))\n",
    "    \n",
    "    ##############################################################################\n",
    "    #ACL weights (reload and re-root the tree first)\n",
    "    ##############################################################################\n",
    "    try:\n",
    "        tree = Phylo.read(tree_loc, rooted=False, format='newick')\n",
    "    except FileNotFoundError:\n",
    "        continue  \n",
    "    tree = supporting_functions.MP_root(tree)\n",
    "    ##############################################\n",
    "    ###RelTime transformation\n",
    "    ##############################################\n",
    "    tree.root.branch_length = 0.0\n",
    "    tree = supporting_functions.rel_time_AJH(tree)\n",
    "    for node in tree.get_terminals() + tree.get_nonterminals():\n",
    "        if node == tree.root:\n",
    "            continue\n",
    "        node.branch_length = node.branch_length/node.rate\n",
    "    tree.root.branch_length = None\n",
    "\n",
    "    print('####################ACL', prot_name, len(records), len(tree.get_terminals()))\n",
    "    #Get ACL weights\n",
    "    weights_dict, new_tree =  weighting_methods.calc_ACL_weights(tree)\n",
    "    weights_dict_id = {}\n",
    "    for i,j in weights_dict.items():\n",
    "        weights_dict_id[i.name] = j\n",
    "    #Mean scale\n",
    "    mean_ACL = np.mean(list(weights_dict_id.values()))\n",
    "    keys, vals = zip(*list(weights_dict_id.items()))\n",
    "    vals = np.array(vals)/mean_ACL\n",
    "    new_dict = dict(zip(keys, vals))\n",
    "    with open(weight_output_dir+'{}_ACL_{}.RelTime.weights'.format(prot_name, 'meanScale'),'w') as outfile:\n",
    "        for record in records:\n",
    "            outfile.write('{}\\n'.format(new_dict[record.id]))\n",
    "    print(np.sum(list(new_dict.values())))  \n",
    "\n",
    "    #Max scale\n",
    "    max_ACL = np.max(list(weights_dict_id.values()))\n",
    "    keys, vals = zip(*list(weights_dict_id.items()))\n",
    "    vals = np.array(vals)/max_ACL\n",
    "    new_dict = dict(zip(keys, vals))\n",
    "    with open(weight_output_dir+'{}_ACL_{}.RelTime.weights'.format(prot_name, 'maxScale'),'w') as outfile:\n",
    "        for record in records:\n",
    "            outfile.write('{}\\n'.format(new_dict[record.id]))\n",
    "    print(np.sum(list(new_dict.values())))  \n",
    "\n",
    "    ### Write corresponding uniform for max scale\n",
    "    weight_val = np.sum(list(new_dict.values()))/len(records)\n",
    "    with open(weight_output_dir+'{}_ACL_maxScale_uniform.RelTime.weights'.format(prot_name),'w') as outfile:\n",
    "        for record in records:\n",
    "            outfile.write('{}\\n'.format(weight_val))"
   ]
  },
  {
   "cell_type": "code",
   "execution_count": null,
   "metadata": {
    "collapsed": true
   },
   "outputs": [],
   "source": []
  },
  {
   "cell_type": "markdown",
   "metadata": {
    "collapsed": true
   },
   "source": [
    "# Read in output log information and write the corresponding uniform weights for simple sequence re-weighting methods\n",
    "\n",
    "This information ultimately did not make it into the manuscript"
   ]
  },
  {
   "cell_type": "code",
   "execution_count": null,
   "metadata": {
    "collapsed": true
   },
   "outputs": [],
   "source": [
    "fasta_directory = '../Data/psicov150_aln_pdb/aln_fasta_max1k/'\n",
    "\n",
    "weight_output_dir = '../Data/weights/'"
   ]
  },
  {
   "cell_type": "code",
   "execution_count": null,
   "metadata": {
    "collapsed": true
   },
   "outputs": [],
   "source": [
    "with open('../Results/CCMPredPy_MetaData.log', 'r') as infile:\n",
    "    lines = infile.readlines()"
   ]
  },
  {
   "cell_type": "code",
   "execution_count": null,
   "metadata": {
    "collapsed": false
   },
   "outputs": [],
   "source": [
    "for line in lines[:]:\n",
    "    temp_dicty = json.loads(line.strip('#>META> '))\n",
    "    outfile = temp_dicty['workflow'][0]['contact_map']['matfile']\n",
    "    if 'simple' in outfile:\n",
    "        prot_name = outfile.split('.')[0]\n",
    "        weighting_val = outfile.split('_')[1].strip('.mat')\n",
    "        neff = temp_dicty['workflow'][0]['msafile']['neff']\n",
    "        fasta_file = fasta_directory+'{}.fasta'.format(prot_name)\n",
    "        records = list(SeqIO.parse(fasta_file, 'fasta'))\n",
    "        ### First write basic uniform weights    \n",
    "        weight_val = neff/len(records)\n",
    "        with open(weight_output_dir+'{}_simple_{}_uniform.weights'.format(prot_name, weighting_val),'w') as outfile:\n",
    "            for record in records:\n",
    "                outfile.write('{}\\n'.format(weight_val))"
   ]
  },
  {
   "cell_type": "code",
   "execution_count": null,
   "metadata": {
    "collapsed": true
   },
   "outputs": [],
   "source": []
  },
  {
   "cell_type": "markdown",
   "metadata": {},
   "source": [
    "# Finally writing my own version of simple sequence weights as well as a slightly more complicated version that I call similarity-adjusted\n",
    "\n",
    "The code is slow / inefficient, and I'm sure there is a better solution here but I'm relatively unconcerned at the moment having ensured that it gives proper results.\n",
    "\n",
    "Note that you'll want to run this for variable `id_param` values (0.1 to 0.9 show up in the manuscript) and just because it's how I initially wrote it, `id_param` is 1 - the lambda parameter that shows up in the manuscript so the math might look a bit strange here "
   ]
  },
  {
   "cell_type": "code",
   "execution_count": 7,
   "metadata": {
    "collapsed": true
   },
   "outputs": [],
   "source": [
    "fasta_directory = '../Data/psicov150_aln_pdb/aln_fasta_max1k/'\n",
    "tree_directory = '../Data/psicov150_aln_pdb/aln_fasta_max1k_iqtree/'\n",
    "\n",
    "weight_output_dir = '../Data/weights/'"
   ]
  },
  {
   "cell_type": "code",
   "execution_count": null,
   "metadata": {
    "collapsed": false
   },
   "outputs": [],
   "source": [
    "id_param = 0.7\n",
    "\n",
    "for fasta_file in sorted(glob.glob(fasta_directory+'*.fasta'))[:]:\n",
    "    #Read in sequence data and tree\n",
    "    records = list(SeqIO.parse(fasta_file, 'fasta'))\n",
    "    prot_name = fasta_file.split('/')[-1].split('.')[0]\n",
    "#     tree_loc = tree_directory+'{}.fasta.treefile'.format(prot_name)\n",
    "#     try:\n",
    "#         tree = Phylo.read(tree_loc, rooted=False, format='newick')\n",
    "#     except FileNotFoundError:\n",
    "#         continue  \n",
    "    \n",
    "    ###Initialize the weights dictionaries so each sequence gets a value of 1\n",
    "    weights_dict_basic = {}\n",
    "    for record in records:\n",
    "        weights_dict_basic[record.id] = 1\n",
    "        \n",
    "    weights_dict_complex = {}\n",
    "    for record in records:\n",
    "        weights_dict_complex[record.id] = 1\n",
    "    \n",
    "    ###Gross double for loop \n",
    "    seq_len = len(str(records[0].seq))\n",
    "    for i, record_i in enumerate(records):\n",
    "        for j in range(i+1, len(records)):\n",
    "            ###Get the hamming distance between the strings (divided by the length)\n",
    "            scaled_dist = Levenshtein.hamming(str(record_i.seq), str(records[j].seq))/seq_len\n",
    "            if scaled_dist <= id_param:\n",
    "                weights_dict_basic[record_i.id] += 1\n",
    "                weights_dict_basic[records[j].id] += 1                \n",
    "                weights_dict_complex[record_i.id] += (id_param-scaled_dist)/id_param\n",
    "                weights_dict_complex[records[j].id] += (id_param-scaled_dist)/id_param\n",
    "\n",
    "    \n",
    "    for key, val in weights_dict_basic.items():\n",
    "        weights_dict_basic[key] = 1./val\n",
    "        \n",
    "    for key, val in weights_dict_complex.items():\n",
    "        weights_dict_complex[key] = 1./val\n",
    "            \n",
    "    with open(weight_output_dir+'{}_simple_{}.weights'.format(prot_name, round(1.0-id_param,2)),'w') as outfile:\n",
    "        for record in records:\n",
    "            outfile.write('{}\\n'.format(weights_dict_basic[record.id]))\n",
    "            \n",
    "    with open(weight_output_dir+'{}_simpleish_{}.weights'.format(prot_name, round(1.0-id_param,2)),'w') as outfile:\n",
    "        for record in records:\n",
    "            outfile.write('{}\\n'.format(weights_dict_complex[record.id]))"
   ]
  },
  {
   "cell_type": "markdown",
   "metadata": {},
   "source": [
    "# Checking correlations"
   ]
  },
  {
   "cell_type": "code",
   "execution_count": 4,
   "metadata": {
    "collapsed": true
   },
   "outputs": [],
   "source": [
    "from scipy import stats\n",
    "import numpy as np"
   ]
  },
  {
   "cell_type": "code",
   "execution_count": 20,
   "metadata": {
    "collapsed": false
   },
   "outputs": [],
   "source": [
    "prot_name = '1aoeA'\n",
    "# a = np.genfromtxt(weight_output_dir+'{}_GSC_meanScale.weights'.format(prot_name))\n",
    "# b = np.genfromtxt(weight_output_dir+'{}_ACL_meanScale.weights'.format(prot_name))\n",
    "\n",
    "a = np.genfromtxt(weight_output_dir+'{}_simple_0.8.weights'.format(prot_name))\n",
    "b = np.genfromtxt(weight_output_dir+'{}_simpleish_0.8.weights'.format(prot_name))"
   ]
  },
  {
   "cell_type": "code",
   "execution_count": 21,
   "metadata": {
    "collapsed": false
   },
   "outputs": [
    {
     "data": {
      "text/plain": [
       "SpearmanrResult(correlation=0.9852889085534186, pvalue=0.0)"
      ]
     },
     "execution_count": 21,
     "metadata": {},
     "output_type": "execute_result"
    },
    {
     "data": {
      "image/png": "[encoded data removed]",
      "text/plain": [
       "<matplotlib.figure.Figure at 0x11c403080>"
      ]
     },
     "metadata": {},
     "output_type": "display_data"
    }
   ],
   "source": [
    "fig, ax = plt.subplots()\n",
    "ax.plot(a, b, marker='o', linestyle='')\n",
    "stats.spearmanr(a,b)"
   ]
  },
  {
   "cell_type": "code",
   "execution_count": null,
   "metadata": {
    "collapsed": true
   },
   "outputs": [],
   "source": []
  },
  {
   "cell_type": "code",
   "execution_count": null,
   "metadata": {
    "collapsed": true
   },
   "outputs": [],
   "source": []
  }
 ],
 "metadata": {
  "kernelspec": {
   "display_name": "Python 3",
   "language": "python",
   "name": "python3"
  },
  "language_info": {
   "codemirror_mode": {
    "name": "ipython",
    "version": 3
   },
   "file_extension": ".py",
   "mimetype": "text/x-python",
   "name": "python",
   "nbconvert_exporter": "python",
   "pygments_lexer": "ipython3",
   "version": "3.4.5"
  },
  "toc": {
   "colors": {
    "hover_highlight": "#DAA520",
    "navigate_num": "#000000",
    "navigate_text": "#333333",
    "running_highlight": "#FF0000",
    "selected_highlight": "#FFD700",
    "sidebar_border": "#EEEEEE",
    "wrapper_background": "#FFFFFF"
   },
   "moveMenuLeft": true,
   "nav_menu": {
    "height": "12px",
    "width": "252px"
   },
   "navigate_menu": true,
   "number_sections": true,
   "sideBar": true,
   "threshold": 4,
   "toc_cell": false,
   "toc_section_display": "block",
   "toc_window_display": false,
   "widenNotebook": false
  }
 },
 "nbformat": 4,
 "nbformat_minor": 2
}
