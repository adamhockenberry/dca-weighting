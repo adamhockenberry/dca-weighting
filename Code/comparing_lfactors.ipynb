{
 "cells": [
  {
   "cell_type": "code",
   "execution_count": null,
   "metadata": {
    "collapsed": true
   },
   "outputs": [],
   "source": [
    "%matplotlib inline\n",
    "%load_ext autoreload\n",
    "%autoreload 2"
   ]
  },
  {
   "cell_type": "code",
   "execution_count": null,
   "metadata": {
    "collapsed": false
   },
   "outputs": [],
   "source": [
    "import glob\n",
    "import pandas as pd\n",
    "from Bio import SeqIO\n",
    "\n",
    "import sklearn.metrics\n",
    "\n",
    "from matplotlib import pyplot as plt\n",
    "\n",
    "\n",
    "\n",
    "import numpy as np\n",
    "\n",
    "\n",
    "\n",
    "# from scipy import stats\n"
   ]
  },
  {
   "cell_type": "code",
   "execution_count": null,
   "metadata": {
    "collapsed": true
   },
   "outputs": [],
   "source": [
    "import process_couplings"
   ]
  },
  {
   "cell_type": "code",
   "execution_count": null,
   "metadata": {
    "collapsed": true
   },
   "outputs": [],
   "source": [
    "import matplotlib\n",
    "matplotlib.rcParams['xtick.labelsize'] = 16\n",
    "matplotlib.rcParams['ytick.labelsize'] = 16\n",
    "matplotlib.rcParams['axes.labelsize'] = 18\n",
    "matplotlib.rcParams['axes.titlesize'] = 18\n",
    "\n",
    "matplotlib.rcParams['axes.grid'] = True\n",
    "matplotlib.rcParams['grid.color'] = '0.5'\n",
    "matplotlib.rcParams['grid.linewidth'] = '0.5'\n",
    "\n",
    "matplotlib.rcParams['axes.edgecolor'] = '0.25'\n",
    "matplotlib.rcParams['xtick.color'] = '0'\n",
    "matplotlib.rcParams['ytick.color'] = '0'\n",
    "\n",
    "matplotlib.rcParams['xtick.major.width'] = 1\n",
    "matplotlib.rcParams['ytick.major.width'] = 1\n",
    "matplotlib.rcParams['ytick.major.size'] = 5\n",
    "matplotlib.rcParams['xtick.major.size'] = 5\n",
    "matplotlib.rcParams['axes.spines.right'] = True\n",
    "matplotlib.rcParams['axes.spines.left'] = True\n",
    "matplotlib.rcParams['axes.spines.top'] = True\n",
    "matplotlib.rcParams['axes.spines.bottom'] = True\n",
    "\n",
    "matplotlib.rcParams['font.family'] = 'sans-serif'\n",
    "matplotlib.rcParams['font.sans-serif'] = 'helvetica'\n",
    "matplotlib.rcParams['font.weight']='normal'\n",
    "matplotlib.rcParams['axes.axisbelow'] = True"
   ]
  },
  {
   "cell_type": "code",
   "execution_count": null,
   "metadata": {
    "collapsed": true
   },
   "outputs": [],
   "source": [
    "import datetime\n",
    "year = datetime.date.today().year\n",
    "month = datetime.date.today().month\n",
    "import os\n",
    "figs_dir = '../Results/Figures/{}_{:02}'.format(year, month)\n",
    "if not os.path.exists(figs_dir):\n",
    "    os.makedirs(figs_dir)"
   ]
  },
  {
   "cell_type": "code",
   "execution_count": null,
   "metadata": {
    "collapsed": true
   },
   "outputs": [],
   "source": [
    "couplings_dir = '../Results/couplings_revision/'\n",
    "contacts_dir = '../Data/psicov150_aln_pdb/pdb/'\n",
    "fastas_dir = '../Data/psicov150_aln_pdb/aln_fasta_max1k/'"
   ]
  },
  {
   "cell_type": "code",
   "execution_count": null,
   "metadata": {
    "collapsed": true
   },
   "outputs": [],
   "source": [
    "length_based_modifier = 1.\n",
    "\n",
    "primary_distance_cutoff = 6\n",
    "\n",
    "contact_definition = 7.5 \n",
    "\n",
    "weights_type = 'GSC'"
   ]
  },
  {
   "cell_type": "code",
   "execution_count": null,
   "metadata": {
    "collapsed": false
   },
   "outputs": [],
   "source": [
    "results_dicty_ppv = {}\n",
    "results_dicty_aupr = {}\n",
    "\n",
    "types_to_test = ['raw', 'apc', 'ent']\n",
    "\n",
    "for type_to_test in types_to_test:\n",
    "    for infile in sorted(glob.glob(couplings_dir+'*{}*.mat'.format(weights_type)))[:]:\n",
    "        prot_name = infile.split('/')[-1].split('.')[0]\n",
    "        params = '.'.join(infile.split('/')[-1].split('.')[1:-1])\n",
    "        if params[:3] != type_to_test:\n",
    "            continue\n",
    "        #Read in the couplings for the protein of interest\n",
    "        testy_df = process_couplings.process_ccmpredpy(infile)\n",
    "        #Read in the contacts\n",
    "        df_contacts = pd.read_csv(contacts_dir+'{}_SCcenter_contacts.csv'.format(prot_name), index_col=0)\n",
    "        df_contacts, df_contacts_stack = process_couplings.process_contacts_df(df_contacts)\n",
    "        #Read in the fasta sequence\n",
    "        seq = list(SeqIO.parse(fastas_dir+'{}.fasta'.format(prot_name), 'fasta'))[0]\n",
    "        seq = str(seq.seq)\n",
    "        #Merge everyone together\n",
    "        df_merged = process_couplings.merge_contacts_couplings(df_contacts_stack, testy_df, seq)\n",
    "        #Remove pairs that are close in primary distance space\n",
    "        df_merged = process_couplings.remove_close(df_merged, primary_distance_cutoff)\n",
    "        #Calculate the PPV and add to a results dictionary\n",
    "        ppv_val, ns = process_couplings.ppv_from_df(df_merged, int(len(seq)*length_based_modifier),\\\n",
    "                                                    length_cutoff=contact_definition)\n",
    "        try:\n",
    "            results_dicty_ppv[params].append(ppv_val)\n",
    "        except:\n",
    "            results_dicty_ppv[params] = [ppv_val]\n",
    "        #########\n",
    "        #Further process the merged dataframe to include a binary variable for contacts\n",
    "        df_merged['contact'] = df_merged['distance']<contact_definition\n",
    "        #Calculate the area under the curve and add to a results dictionary\n",
    "        aupr = sklearn.metrics.average_precision_score(df_merged['contact'], df_merged['couplings'])\n",
    "        try:\n",
    "            results_dicty_aupr[params].append(aupr)\n",
    "        except:\n",
    "            results_dicty_aupr[params] = [aupr]"
   ]
  },
  {
   "cell_type": "code",
   "execution_count": null,
   "metadata": {
    "collapsed": true
   },
   "outputs": [],
   "source": [
    "coup_type = 'raw'\n",
    "results_dicty = results_dicty_ppv\n",
    "metric = 'PPV'"
   ]
  },
  {
   "cell_type": "code",
   "execution_count": null,
   "metadata": {
    "collapsed": false
   },
   "outputs": [],
   "source": [
    "results_dicty.keys()"
   ]
  },
  {
   "cell_type": "code",
   "execution_count": null,
   "metadata": {
    "collapsed": false
   },
   "outputs": [],
   "source": [
    "prop_cycle = plt.rcParams['axes.prop_cycle']\n",
    "colors = prop_cycle.by_key()['color']\n",
    "\n",
    "fig, ax = plt.subplots(figsize=(8,3))\n",
    "\n",
    "\n",
    "data = [np.mean(results_dicty['{}.{}_meanScale_lfactor0.05'.format(coup_type, weights_type)])] +\\\n",
    "    [np.mean(results_dicty['{}.{}_meanScale_lfactor0.{}'.format(coup_type, weights_type, i)]) for i in range(1,10)]+\\\n",
    "    [np.mean(results_dicty['{}.{}_meanScale_lfactor1.0'.format(coup_type, weights_type)])]\n",
    "xvals= [0.05] + [i/10 for i in range(1,10)]+[1.0]\n",
    "ax.plot(xvals, data, marker='s', zorder=4, label='{} mean scale'.format(weights_type), markersize=8, c=colors[0])\n",
    "\n",
    "\n",
    "\n",
    "\n",
    "data = [np.mean(results_dicty['{}.{}_maxScale_lfactor0.05'.format(coup_type, weights_type)])] +\\\n",
    "    [np.mean(results_dicty['{}.{}_maxScale_lfactor0.{}'.format(coup_type, weights_type, i)]) for i in range(1,10)]+\\\n",
    "    [np.mean(results_dicty['{}.{}_maxScale_lfactor1.0'.format(coup_type, weights_type)])]\n",
    "xvals= [0.05]+[i/10 for i in range(1,10)]+[1.0]\n",
    "ax.plot(xvals, data, marker='s', zorder=4, label='{} max scale'.format(weights_type), markersize=8, c=colors[1])\n",
    "\n",
    "ax.axvspan(0.175,0.225, color='k', alpha=0.2)\n",
    "\n",
    "ax.set_ylabel(metric)\n",
    "ax.set_xlabel('Pairwise regularization coefficient')\n",
    "# ax.set_ylim(0.1, 0.45)\n",
    "legend = ax.legend(loc='best', fontsize=14, framealpha=1.0)\n",
    "\n",
    "\n",
    "plt.savefig('{}/{}_{}_lfactor.pdf'.format(figs_dir, weights_type, coup_type), bbox_inches='tight')\n",
    "# # ax.grid(False)"
   ]
  },
  {
   "cell_type": "code",
   "execution_count": null,
   "metadata": {
    "collapsed": true
   },
   "outputs": [],
   "source": []
  },
  {
   "cell_type": "code",
   "execution_count": null,
   "metadata": {
    "collapsed": true
   },
   "outputs": [],
   "source": []
  },
  {
   "cell_type": "code",
   "execution_count": null,
   "metadata": {
    "collapsed": true
   },
   "outputs": [],
   "source": []
  }
 ],
 "metadata": {
  "kernelspec": {
   "display_name": "Python 3",
   "language": "python",
   "name": "python3"
  },
  "language_info": {
   "codemirror_mode": {
    "name": "ipython",
    "version": 3
   },
   "file_extension": ".py",
   "mimetype": "text/x-python",
   "name": "python",
   "nbconvert_exporter": "python",
   "pygments_lexer": "ipython3",
   "version": "3.4.5"
  },
  "toc": {
   "colors": {
    "hover_highlight": "#DAA520",
    "navigate_num": "#000000",
    "navigate_text": "#333333",
    "running_highlight": "#FF0000",
    "selected_highlight": "#FFD700",
    "sidebar_border": "#EEEEEE",
    "wrapper_background": "#FFFFFF"
   },
   "moveMenuLeft": true,
   "nav_menu": {
    "height": "12px",
    "width": "252px"
   },
   "navigate_menu": true,
   "number_sections": true,
   "sideBar": true,
   "threshold": 4,
   "toc_cell": false,
   "toc_section_display": "block",
   "toc_window_display": false,
   "widenNotebook": false
  }
 },
 "nbformat": 4,
 "nbformat_minor": 2
}
